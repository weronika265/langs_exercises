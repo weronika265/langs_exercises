{
 "cells": [
  {
   "cell_type": "markdown",
   "metadata": {},
   "source": [
    "Napisz wyrażenie list comprehension, które zwróci listę liczb pierwszych z przedziału od 1 do limit. Możesz wykorzystać wyrażenie z poprzedniego zadania, zagnieżdżając dwa wyrażenia list comprehension jedno w drugim. \n",
    "\n",
    "Wskazówka: zwróć wszystkie n z listy 'numbers', które mają dokładnie 2 dzielniki.\n",
    "\n",
    "```\n",
    "Liczby pierwsze od 1 do 100: [2, 3, 5, 7, 11, 13, 17, 19, 23, 29, 31, 37, 41, 43, 47, 53, 59, 61, 67, 71, 73, 79, 83, 89, 97]\n",
    "```"
   ]
  },
  {
   "cell_type": "code",
   "execution_count": 2,
   "metadata": {},
   "outputs": [
    {
     "name": "stdout",
     "output_type": "stream",
     "text": [
      "Liczby pierwsze od 1 do 100: [2, 3, 5, 7, 11, 13, 17, 19, 23, 29, 31, 37, 41, 43, 47, 53, 59, 61, 67, 71, 73, 79, 83, 89, 97]\n"
     ]
    }
   ],
   "source": [
    "limit = 100\n",
    "numbers = range(1, limit+1)\n",
    "\n",
    "# Zastąp pustą listę wyrażeniem zwracającym liczby pierwsze z zakresu od 1 do 'limit'\n",
    "primes = [i for i in numbers if i != 1 and all(i % j for j in range(2, i))];\n",
    "\n",
    "print('Liczby pierwsze od 1 do %d: %s' % (limit, primes))"
   ]
  },
  {
   "cell_type": "code",
   "execution_count": null,
   "metadata": {},
   "outputs": [],
   "source": []
  }
 ],
 "metadata": {
  "kernelspec": {
   "display_name": "Python 3.9 (ipykernel)",
   "language": "python",
   "name": "python3"
  },
  "language_info": {
   "codemirror_mode": {
    "name": "ipython",
    "version": 3
   },
   "file_extension": ".py",
   "mimetype": "text/x-python",
   "name": "python",
   "nbconvert_exporter": "python",
   "pygments_lexer": "ipython3",
   "version": "3.9.1"
  }
 },
 "nbformat": 4,
 "nbformat_minor": 5
}

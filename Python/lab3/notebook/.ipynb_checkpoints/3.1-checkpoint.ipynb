{
 "cells": [
  {
   "cell_type": "markdown",
   "metadata": {},
   "source": [
    "Uzupełnij wyrażenia obliczające rozwiązania równania kwadratowego. Wypisz na standardowe wyjście wszystkie rozwiązania lub komunikat o jego braku. Rozwiązania niekoniecznie są liczbami całkowitymi, zaokrąglij je do 2 miejsc po przecinku.\n",
    "\n",
    "```\n",
    "Równanie 1x^2 + -4x + 3 = 0\n",
    "Rozwiązania: x_1 = 1.0, x_ 2 = 3.0\n",
    "```\n",
    "\n",
    "```\n",
    "Równanie 9x^2 + -12x + 4 = 0\n",
    "Rozwiązanie: x_1 = x_ 2 = 0.67\n",
    "```\n",
    "\n",
    "```\n",
    "Równanie -6x^2 + 3x + -1 = 0\n",
    "Rozwiązania: brak\n",
    "```"
   ]
  },
  {
   "cell_type": "code",
   "execution_count": 3,
   "metadata": {},
   "outputs": [
    {
     "name": "stdout",
     "output_type": "stream",
     "text": [
      "a: 9\n",
      "b: -12\n",
      "c: 4\n",
      "Równanie 9x^2 + -12x + 4 = 0\n",
      "Rozwiązanie: x_1 = x_2 = 0.67\n"
     ]
    }
   ],
   "source": [
    "# ma działać dla dowolnych a, b, c \n",
    "#(int i float, wczytywane od użytkownika - input)\n",
    "from math import sqrt\n",
    "# a\n",
    "a = int(input('a: '))\n",
    "# b\n",
    "b = int(input('b: '))\n",
    "# c\n",
    "c = int(input('c: '))\n",
    "\n",
    "delta = (b ** 2) - (4 * a * c)          # zastąp zero wzorem na deltę\n",
    "#x_1 = (-b - sqrt(delta)) / (2 * a)      # zastąp zero wzorem na rozwiązanie nr 1\n",
    "#x_2 = (-b + sqrt(delta)) / (2 * a)      # zastąp zero wzorem na rozwiązanie nr 2\n",
    "\n",
    "# Wypisz równanie\n",
    "print('Równanie {}x^2 + {}x + {} = 0'.format(a, b, c))\n",
    "\n",
    "# Wypisz rozwiązania\n",
    "if delta > 0:\n",
    "    x_1 = (-b - sqrt(delta)) / (2 * a)\n",
    "    x_2 = (-b + sqrt(delta)) / (2 * a)\n",
    "    print('Rozwiązania: x_1 = {:.2f}, x_2 = {:.2f}'.format(x_1, x_2))\n",
    "elif delta == 0:\n",
    "    x_0 = -b / (2 * a)\n",
    "    print('Rozwiązanie: x_1 = x_2 = {:.2f}'.format(x_0))\n",
    "else:\n",
    "    print('Rozwiązania: brak')\n"
   ]
  },
  {
   "cell_type": "code",
   "execution_count": null,
   "metadata": {},
   "outputs": [],
   "source": []
  }
 ],
 "metadata": {
  "kernelspec": {
   "display_name": "Python 3.9 (ipykernel)",
   "language": "python",
   "name": "python3"
  },
  "language_info": {
   "codemirror_mode": {
    "name": "ipython",
    "version": 3
   },
   "file_extension": ".py",
   "mimetype": "text/x-python",
   "name": "python",
   "nbconvert_exporter": "python",
   "pygments_lexer": "ipython3",
   "version": "3.9.1"
  }
 },
 "nbformat": 4,
 "nbformat_minor": 5
}

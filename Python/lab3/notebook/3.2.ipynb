{
 "cells": [
  {
   "cell_type": "markdown",
   "metadata": {},
   "source": [
    "(0.5 pkt) Napisz wyrażenia list comprehension, które zwrócą listy dzielników liczb n i p. Dodaj instrukcje print, wypisujące te listy.\n",
    "\n",
    "```\n",
    "Dzielniki liczby 60: [1, 2, 3, 4, 5, 6, 10, 12, 15, 20, 30, 60]\n",
    "Dzielniki liczby 37: [1, 37]\n",
    "```"
   ]
  },
  {
   "cell_type": "code",
   "execution_count": 12,
   "metadata": {},
   "outputs": [
    {
     "name": "stdout",
     "output_type": "stream",
     "text": [
      "Dzielniki liczby 60: [1, 2, 3, 4, 5, 6, 10, 12, 15, 20, 30, 60]\n",
      "Dzielniki liczby 37: [1, 37]\n"
     ]
    }
   ],
   "source": [
    "n, p = 60, 37\n",
    "# ma działać dla dowolnych n i p (bez input, tylko zmiana zmiennych w kodzie)\n",
    "\n",
    "# Wypisz dzielniki n\n",
    "x = [a for a in range(1, n + 1) if n % a == 0]\n",
    "print('Dzielniki liczby {}: {}'.format(n, x))\n",
    "# Wypisz dzielniki p\n",
    "y = [b for b in range(1, p + 1) if p % b == 0]\n",
    "print('Dzielniki liczby {}: {}'.format(p, y))"
   ]
  },
  {
   "cell_type": "code",
   "execution_count": null,
   "metadata": {},
   "outputs": [],
   "source": []
  }
 ],
 "metadata": {
  "kernelspec": {
   "display_name": "Python 3.9 (ipykernel)",
   "language": "python",
   "name": "python3"
  },
  "language_info": {
   "codemirror_mode": {
    "name": "ipython",
    "version": 3
   },
   "file_extension": ".py",
   "mimetype": "text/x-python",
   "name": "python",
   "nbconvert_exporter": "python",
   "pygments_lexer": "ipython3",
   "version": "3.9.1"
  }
 },
 "nbformat": 4,
 "nbformat_minor": 5
}

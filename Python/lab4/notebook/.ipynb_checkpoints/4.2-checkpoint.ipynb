{
 "cells": [
  {
   "cell_type": "markdown",
   "metadata": {},
   "source": [
    "(0.5 pkt) Uzupełnij funkcję unique_words, zwracającą uporządkowaną alfabetycznie listę unikalnych słów z pliku. Wskazówka: wykorzystaj funkcję _words_from_line, zwracającą listę słów z linii tekstu \"wiki_small.txt\". Wykorzystaj też zbiór - kolejne słowa dodawaj do zbioru, a następnie skonwertuj zbiór do listy."
   ]
  },
  {
   "cell_type": "code",
   "execution_count": 16,
   "metadata": {},
   "outputs": [
    {
     "name": "stdout",
     "output_type": "stream",
     "text": [
      "['a', 'accogli', 'adams', 'afganistan', 'afrykę', 'aktorka', 'alberta', 'album', 'amerykańska', 'andrano', 'andriuszina', 'anglii', 'arabów', 'aranżacjach', 'aranżer', 'arkansas', 'arystokratka', 'assolti', 'asteroid', 'auriflama', 'australijski', 'autor', 'bardziński', 'bez', 'bezpieczeństwo', 'białej', 'biało', 'bielsku', 'bitwa', 'bitwie', 'bitwy', 'bizoń', 'bolechowie', 'bolszewickiej', 'borodicz', 'boroditš', 'botaniki', 'brali', 'brazylii', 'bro', 'brytyjska', 'brzezina', 'brąszewice', 'budapeszcie', 'buddyzmu', 'budowli', 'burgundia', 'butcher', 'był', 'była', 'były', 'będąca', 'c', 'carabane', 'carnyorth', 'casamance', 'całego', 'cały', 'cechuje', 'celem', 'cenny', 'centralnej', 'centralnym', 'centrum', 'chemii', 'cher', 'chinach', 'chirurgicznej', 'chirurgii', 'chorągwi', 'chruszczowo', 'cichlidae', 'cinq', 'city', 'ciągu', 'ciężkości', 'ciśnieniowe', 'ciśnieniowych', 'ciśnień', 'clichy', 'cmentarzu', 'continental', 'cywilne', 'cywilnego', 'czarną', 'czasem', 'czerwca', 'czujnik', 'czyli', 'części', 'część', 'członków', 'człowieka', 'człuchowie', 'człuchowski', 'człuchowskim', 'dane', 'david', 'de', 'debiutancki', 'debré', 'della', 'denis', 'deniss', 'departamencie', 'deputowany', 'deskryptywnej', 'dla', 'dnia', 'do', 'dobrze', 'dodatkowego', 'dokument', 'dokładnych', 'domieszką', 'domów', 'douglas', 'dowody', 'drodze', 'drogowego', 'drugi', 'drużynie', 'duchowny', 'dwa', 'dwukrotnie', 'dyplomata', 'dyrektorem', 'działacz', 'dzieci', 'dzienniki', 'dziewięć', 'dętej', 'długa', 'długości', 'e', 'eksponowanymi', 'elektrycznych', 'emilian', 'empiryczne', 'epoki', 'est', 'estoński', 'estuarium', 'et', 'european', 'ewangelicko', 'farmaceuta', 'fci', 'federację', 'filmowa', 'finlandii', 'florencji', 'folk', 'form', 'fr', 'francji', 'francuski', 'frederik', 'frits', 'gastão', 'gaël', 'gałąź', 'gdyż', 'gibelinów', 'gitar', 'gmin', 'gmina', 'gminie', 'grająca', 'grenady', 'grimaldi', 'grudnia', 'grunwald', 'grunwaldem', 'grupy', 'gruszka', 'gry', 'grą', 'guberni', 'gymnogeophagus', 'górskim', 'głośnomówiących', 'głównego', 'hamilton', 'haüy', 'helfgott', 'henri', 'henryk', 'herdzin', 'herman', 'historii', 'historyk', 'holenderski', 'hrabina', 'hw', 'i', 'iberyjski', 'igrzysk', 'ii', 'implementacja', 'in', 'indie', 'indre', 'innych', 'islamu', 'iława', 'iławskim', 'j', 'jaka', 'jako', 'java', 'jazdy', 'je', 'jean', 'jedna', 'jednolitość', 'jedną', 'jego', 'jej', 'jekatierina', 'jerzy', 'jest', 'jeziorno', 'joey', 'josé', 'jpython', 'jungingen', 'jurajskiego', 'just', 'jython', 'języka', 'językoznawca', 'języku', 'kadencji', 'kagju', 'kanadzie', 'kaplicy', 'karabane', 'katolicki', 'kawalerzysta', 'kieleckim', 'klasyfikacji', 'klemens', 'klimacie', 'kliniki', 'km', 'km²', 'kommun', 'kompleks', 'kompozycji', 'kompozytor', 'komtura', 'komórkowego', 'konrad', 'konstytucyjnej', 'konwentu', 'kornwalii', 'kortlandt', 'kości', 'krajobrazowy', 'krajobrazu', 'krajowej', 'kraju', 'krzysztof', 'krzyżacki', 'krzyżackiego', 'krzyżacy', 'księcia', 'księciem', 'księżnej', 'które', 'który', 'którym', 'kuczwalski', 'kungsängen', 'kurort', 'kwietnia', 'kynologicznych', 'kynologiczną', 'la', 'lady', 'landseer', 'lat', 'lauren', 'lejdzie', 'lekarz', 'leży', 'licznych', 'lingwistyki', 'linii', 'lipca', 'listopada', 'little', 'loara', 'lodowiec', 'loire', 'londynie', 'londynu', 'lotaryngia', 'lotnictwa', 'lotnictwo', 'lotnicze', 'lotniczego', 'lotnisk', 'louis', 'loupmont', 'lowszyno', 'lub', 'luigi', 'lutego', 'lądowań', 'm', 'mad', 'maja', 'maksymalną', 'malborku', 'manchesterze', 'marca', 'marceli', 'mars', 'mary', 'maryli', 'masa', 'masku', 'maszynę', 'masę', 'mazowieckim', 'mazurskie', 'mazurskim', 'mechaniczny', 'medal', 'melodyjną', 'metodą', 'metra', 'mezopotamię', 'mezoregionie', 'miasta', 'miasto', 'michaił', 'miejscowość', 'mieszkający', 'mieć', 'mikroregionie', 'minister', 'mistrzostwo', 'międzynarodową', 'molosów', 'monako', 'monoteistyczna', 'montreuil', 'moskwie', 'moza', 'może', 'mszczonów', 'music', 'muzułmańskich', 'muzyczny', 'muzyk', 'myśliwstwie', 'na', 'najder', 'najtrudniejszym', 'najważniejszych', 'nakładem', 'należąca', 'należących', 'napisana', 'narodowego', 'nazwa', 'nazwą', 'negatywny', 'nie', 'niego', 'niezależny', 'nigdy', 'nim', 'north', 'nowicki', 'nowofundlanda', 'nowych', 'nr', 'o', 'obcego', 'obecnie', 'obejmuje', 'obejmujący', 'oberaletschgletscher', 'obiektem', 'obiektu', 'objawiają', 'objęciem', 'objęła', 'oboczna', 'obrońcy', 'obszar', 'ochrona', 'od', 'odbył', 'odejmowanie', 'odkryta', 'odległości', 'odmianę', 'odnoszące', 'odrębną', 'odwiedzany', 'ogłosił', 'ojciec', 'okresie', 'określona', 'okrążająca', 'okulistyki', 'olimpijskich', 'opolskim', 'opowiadań', 'optimetr', 'optyczno', 'oraz', 'organista', 'organizacji', 'orłowskiej', 'osada', 'ostrych', 'ostródzki', 'otoczony', 'otrzymała', 'otwarta', 'oznacza', 'palestynę', 'panasówce', 'parafii', 'park', 'paryżu', 'pasa', 'pasja', 'paulo', 'pałac', 'pałaców', 'państw', 'państwowego', 'państwowych', 'października', 'pekinie', 'penzance', 'persję', 'pianista', 'piazza', 'pielęgnicowatych', 'pierwszy', 'pierzei', 'pile', 'pisarz', 'pięć', 'piłkarka', 'piłkarz', 'plac', 'planetoida', 'po', 'pobitewnej', 'pochowany', 'początku', 'pod', 'podawana', 'podbitych', 'podczas', 'podniesiona', 'podnoszenia', 'podnoszonego', 'podziału', 'pojazdy', 'pola', 'pole', 'politolog', 'polityk', 'polsce', 'polska', 'polski', 'polskich', 'polskie', 'polskiego', 'polskiej', 'polsko', 'pomiarów', 'pomiędzy', 'pomnik', 'pomnikowy', 'pomorzu', 'porównawczej', 'porównawczą', 'poseł', 'poszukiwaniu', 'powiat', 'powiecie', 'powierzchni', 'powietrznych', 'powodem', 'powodując', 'powołania', 'powróciła', 'powstał', 'pozostawił', 'pozycji', 'położenie', 'położona', 'położony', 'południowo', 'południowy', 'południowym', 'pożywienia', 'ppłk', 'prace', 'prawa', 'prawne', 'prawnik', 'prawo', 'presostat', 'presostatu', 'preto', 'prezes', 'prezydenta', 'priszwin', 'prl', 'producenta', 'producentem', 'profesor', 'programowania', 'prowadzenia', 'prowadził', 'prowadzących', 'przed', 'przekaźnik', 'przekaźnika', 'przemieszczona', 'przepisy', 'przesiewających', 'przewodach', 'przewodniczący', 'przewody', 'przewodów', 'przez', 'przy', 'przyrodzie', 'przystosowane', 'przysucha', 'przysuskim', 'przyłączone', 'psa', 'psychologiczne', 'publicznego', 'punkowej', 'punkowych', 'python', 'północnej', 'północną', 'półwysep', 'płaszczyznach', 'płycie', 'płytową', 'płyty', 'pływania', 'r', 'rady', 'radziecki', 'rasa', 'rasy', 'rasę', 'records', 'reformowanym', 'region', 'regionie', 'regionu', 'regulująca', 'religia', 'religijną', 'religią', 'rené', 'reprezentantka', 'rezydował', 'rezydujący', 'reżyserka', 'riigikogu', 'rio', 'robespierre', 'rock', 'rodowicz', 'rodzaj', 'rodzaje', 'rodzin', 'rodziny', 'roku', 'ros', 'rosji', 'rosyjska', 'rosyjski', 'rozgrywającej', 'rozgrywała', 'rozmów', 'rozporządzeniem', 'rozwijany', 'rozwijała', 'rozwiodła', 'ruchu', 'ruiny', 'ryb', 'rzeczypospolitej', 'rzeki', 'rzeźbami', 'również', 'różnicy', 'ręczna', 's', 'saint', 'saksofonista', 'saona', 'schizoafektywnymi', 'sejm', 'sekcji', 'senegalu', 'serley', 'sferę', 'siedzibą', 'sieradzkim', 'siergiejewna', 'sierpnia', 'signoria', 'się', 'ska', 'sokołowie', 'spoczynku', 'sporządzania', 'społeczny', 'srebrny', 'stacja', 'stan', 'stanie', 'stanowi', 'stanowiące', 'startów', 'statków', 'stolicą', 'stosuje', 'stosunki', 'stowarzyszenia', 'stroński', 'studia', 'stycznia', 'stębarkiem', 'suomi', 'swoim', 'syrię', 'szeregiem', 'szerszym', 'szkoła', 'sztandarem', 'sztokholm', 'sztuka', 'szw', 'szwedzkich', 'szybkiego', 'são', 'są', 'słodkowodnych', 'słońce', 'słuchawkowych', 'służący', 't', 'taklung', 'także', 'talco', 'tallinna', 'tallinnie', 'tamtejszej', 'tego', 'tej', 'tekstowych', 'telefonu', 'telewizyjna', 'ten', 'tenorowy', 'teorie', 'terenach', 'tereny', 'też', 'to', 'tolna', 'toruniu', 'tronu', 'trwałość', 'trzech', 'tuluzie', 'turkiestan', 'turystów', 'tutaj', 'tutti', 'tworzy', 'tybetańskiego', 'tym', 'type', 'typie', 'tytułu', 'tłumy', 'uczestnik', 'uczniem', 'uczonych', 'udział', 'udźwig', 'udźwigu', 'ujednoznacznienia', 'ujęciu', 'ukrainie', 'ukrainy', 'ulnowem', 'ulrich', 'universal', 'uniwersytecie', 'upplands', 'ur', 'urbanistyczny', 'uregulowane', 'urodzony', 'urządzenia', 'urządzenie', 'ustalonym', 'ustawą', 'usytuowany', 'uszkodzenia', 'utalentowany', 'utrechcie', 'utrzymane', 'utwory', 'utworzony', 'utworów', 'uwagowe', 'uznana', 'uznany', 'uznawana', 'użycia', 'użyciu', 'używania', 'varsinais', 'vecchio', 'victoria', 'vidigal', 'vii', 'viii', 'von', 'w', 'walki', 'wallenrode', 'warmińsko', 'warszawie', 'wartość', 'watykański', 'wcześniej', 'we', 'wiadomości', 'wiceburmistrz', 'wieku', 'wieków', 'wielkości', 'wielu', 'wieluńskiej', 'wieś', 'wilnie', 'większość', 'wody', 'województwach', 'województwie', 'województwo', 'wojny', 'wojska', 'wokalista', 'wokalistki', 'woźnicko', 'wpływ', 'wpływu', 'wraz', 'września', 'wschód', 'wsi', 'wskazują', 'wszystkie', 'wyburzeniu', 'wydany', 'wyhodowana', 'wyjątkiem', 'wyjątkowo', 'wykonanych', 'wykorzystaniem', 'wykorzystywanych', 'wypoczynkowy', 'wyposażony', 'wysokość', 'wyspa', 'wyspie', 'występuje', 'występujący', 'wytwórni', 'wytwórnię', 'wyłącznie', 'wyżynie', 'wyżyny', 'względem', 'węższym', 'władz', 'włoski', 'włoskiej', 'xii', 'xiv', 'z', 'za', 'zaburzeniami', 'zachodniej', 'zachowała', 'zachód', 'zadębieniec', 'zagnańsk', 'zakresie', 'zakresu', 'zalesione', 'zależny', 'zaliczana', 'zaliczany', 'zamek', 'zamku', 'zasięgiem', 'zawarte', 'zazwyczaj', 'załęczański', 'zbigniew', 'zbiór', 'zbudowany', 'zdobycia', 'zdobywała', 'zdobyła', 'zelowie', 'zespół', 'zestawów', 'zgromadzenia', 'ziemianin', 'ziemiojadów', 'ziemię', 'zjawisko', 'zm', 'znajduje', 'znajdują', 'znany', 'zostać', 'został', 'została', 'zwenigorod', 'zwierzęta', 'zwiezda', 'zycia', 'złamaniu', 'île', 'łodwigowem', 'łódzkim', 'łąki', 'śląskim', 'średniej', 'środka', 'środkowej', 'świata', 'świecie', 'świecką', 'świętokrzyskim', 'żona', 'żużlowiec', 'życia', 'żyrardowskim', 'андрюшина', 'бородич', 'денис', 'екатерина', 'михаил', 'михайлович', 'пришвин', 'сергеевна']\n"
     ]
    }
   ],
   "source": [
    "import re\n",
    "\n",
    "# Funkcje pomocnicze\n",
    "\n",
    "def _words_from_line(line):\n",
    "    \"Zwraca listę słów dla linijki tekstu unicode.\"\n",
    "    words = re.split('[\\W\\d]+', line)\n",
    "    return [w.lower() for w in words if w]\n",
    "\n",
    "# Rozwiązanie\n",
    "\n",
    "def unique_words(filename):\n",
    "    \"Zwraca posortowaną alfabetycznie listę wszystkich słów z pliku.\"\n",
    "    wordset = set()\n",
    "\n",
    "    # uzupełnij\n",
    "    with open(filename, 'r', encoding = 'utf-8') as f:\n",
    "        for line in f:\n",
    "            words = _words_from_line(line)\n",
    "            wordset.update(words)\n",
    "    set_to_list = list(wordset)\n",
    "    return sorted(set_to_list)\n",
    "    \n",
    "# uruchom funkcję unique_words()\n",
    "lst = unique_words('wiki_small.txt')\n",
    "print(lst)"
   ]
  },
  {
   "cell_type": "code",
   "execution_count": null,
   "metadata": {},
   "outputs": [],
   "source": []
  }
 ],
 "metadata": {
  "kernelspec": {
   "display_name": "Python 3.9 (ipykernel)",
   "language": "python",
   "name": "python3"
  },
  "language_info": {
   "codemirror_mode": {
    "name": "ipython",
    "version": 3
   },
   "file_extension": ".py",
   "mimetype": "text/x-python",
   "name": "python",
   "nbconvert_exporter": "python",
   "pygments_lexer": "ipython3",
   "version": "3.9.1"
  }
 },
 "nbformat": 4,
 "nbformat_minor": 5
}

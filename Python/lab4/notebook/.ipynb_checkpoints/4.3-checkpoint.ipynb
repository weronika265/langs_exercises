{
 "cells": [
  {
   "cell_type": "markdown",
   "metadata": {},
   "source": [
    "(1 pkt) Uzupełnij funkcję word_stat, zwracającą listę krotek (słowo, liczba_wystąpień_w_tekście). Przed zwróceniem posortuj wynikową listę funkcją _sort_stat. Wskazówka: wykorzystaj słownik, w którym kluczami są słowa, a wartościami - liczba ich wystąpień."
   ]
  },
  {
   "cell_type": "code",
   "execution_count": 7,
   "metadata": {},
   "outputs": [
    {
     "name": "stdout",
     "output_type": "stream",
     "text": [
      "Podaj nazwę pliku: wiki10.txt\n",
      "[('w', 18), ('roku', 4), ('z', 4), ('ur', 2), ('crazy', 2), ('heart', 2), ('autorstwa', 2), ('od', 2), ('do', 2), ('m', 2), ('pułk', 2), ('piechoty', 2), ('austro', 2), ('węgier', 2), ('niem', 2), ('mogiłka', 1), ('wieś', 1), ('polsce', 1), ('położona', 1), ('województwie', 1), ('wielkopolskim', 1), ('powiecie', 1), ('krotoszyńskim', 1), ('gminie', 1), ('koźmin', 1), ('wielkopolski', 1), ('miejscowość', 1), ('wchodzi', 1), ('skład', 1), ('sołectwa', 1), ('orla', 1), ('ewa', 1), ('witkowska', 1), ('polska', 1), ('modelka', 1), ('szalone', 1), ('serce', 1), ('ang', 1), ('amerykański', 1), ('melodramat', 1), ('muzyczny', 1), ('reżyserii', 1), ('i', 1), ('według', 1), ('scenariusza', 1), ('scotta', 1), ('coopera', 1), ('scenariusz', 1), ('powstał', 1), ('oparciu', 1), ('o', 1), ('wydaną', 1), ('książkę', 1), ('thomasa', 1), ('cobba', 1), ('monstera', 1), ('subpinnata', 1), ('schott', 1), ('engl', 1), ('gatunek', 1), ('wieloletnich', 1), ('wiecznie', 1), ('zielonych', 1), ('pnączy', 1), ('rodziny', 1), ('obrazkowatych', 1), ('pochodzący', 1), ('obszaru', 1), ('ekwadoru', 1), ('boliwii', 1), ('zasiedlający', 1), ('lasy', 1), ('deszczowe', 1), ('strefy', 1), ('równikowej', 1), ('whitehorn', 1), ('mountain', 1), ('szczyt', 1), ('prowincji', 1), ('alberta', 1), ('kanadzie', 1), ('paśmie', 1), ('slate', 1), ('range', 1), ('jego', 1), ('wysokość', 1), ('wynosi', 1), ('n', 1), ('p', 1), ('po', 1), ('raz', 1), ('pierwszy', 1), ('został', 1), ('zdobyty', 1), ('antoni', 1), ('borowski', 1), ('mławie', 1), ('zm', 1), ('warszawie', 1), ('polski', 1), ('samorządowiec', 1), ('moscow', 1), ('miasto', 1), ('stanie', 1), ('idaho', 1), ('zajmuje', 1), ('powierzchnię', 1), ('km²', 1), ('czego', 1), ('całość', 1), ('stanowi', 1), ('ląd', 1), ('ludność', 1), ('cw', 1), ('planetoida', 1), ('pasa', 1), ('głównego', 1), ('asteroid', 1), ('okrążająca', 1), ('słońce', 1), ('ciągu', 1), ('lat', 1), ('średniej', 1), ('odległości', 1), ('j', 1), ('a', 1), ('odkryta', 1), ('lutego', 1), ('albania', 1), ('przedstawia', 1), ('swoich', 1), ('kandydatów', 1), ('oscara', 1), ('dla', 1), ('najlepszego', 1), ('filmu', 1), ('nieanglojęzycznego', 1), ('wyboru', 1), ('dokonuje', 1), ('komitet', 1), ('powołany', 1), ('przez', 1), ('ministerstwo', 1), ('kultury', 1), ('böhmisches', 1), ('infanterieregiment', 1), ('nr', 1), ('armii', 1), ('okręg', 1), ('uzupełnień', 1), ('mladá', 1), ('boleslav', 1), ('jungbunzlau', 1)]\n"
     ]
    }
   ],
   "source": [
    "import re\n",
    "\n",
    "# Funkcje pomocnicze\n",
    "\n",
    "def _words_from_line(line):\n",
    "    \"Zwraca listę słów dla linijki tekstu unicode.\"\n",
    "    words = re.split('[\\W\\d]+', line)\n",
    "    return [w.lower() for w in words if w]\n",
    "\n",
    "def _sort_stat(stat):\n",
    "    \"Sortuje malejąco listę par według drugiego elementu.\"\n",
    "    return sorted(stat, key=lambda p: p[1], reverse=True)\n",
    "\n",
    "# Rozwiązanie\n",
    "\n",
    "def word_stat(filename):\n",
    "    '''\n",
    "    Zwraca posortowaną malejąco statystykę wystąpień słów\n",
    "    w pliku w postaci listy par (słowo, liczba).\n",
    "    '''\n",
    "\n",
    "    # uzupełnij\n",
    "    dict = {}\n",
    "    with open(filename, 'r', encoding = 'utf-8') as f:\n",
    "        for line in f:\n",
    "            words_in_line = _words_from_line(line)\n",
    "            \n",
    "            for word in words_in_line:\n",
    "                if word in dict:\n",
    "                    dict[word] += 1\n",
    "                else:\n",
    "                    dict[word] = 1\n",
    "                    \n",
    "        keys = dict.keys()\n",
    "        values = dict.values()\n",
    "        lst = _sort_stat(tuple(zip(keys, values)))\n",
    "    return lst\n",
    "\n",
    "file = input('Podaj nazwę pliku: ')\n",
    "print(word_stat(file))"
   ]
  },
  {
   "cell_type": "code",
   "execution_count": null,
   "metadata": {},
   "outputs": [],
   "source": []
  }
 ],
 "metadata": {
  "kernelspec": {
   "display_name": "Python 3.9 (ipykernel)",
   "language": "python",
   "name": "python3"
  },
  "language_info": {
   "codemirror_mode": {
    "name": "ipython",
    "version": 3
   },
   "file_extension": ".py",
   "mimetype": "text/x-python",
   "name": "python",
   "nbconvert_exporter": "python",
   "pygments_lexer": "ipython3",
   "version": "3.9.1"
  }
 },
 "nbformat": 4,
 "nbformat_minor": 5
}

{
 "cells": [
  {
   "cell_type": "markdown",
   "metadata": {},
   "source": [
    "(0.5 pkt) W pliku inverted.txt znajduje się odwrócony tekst - linie zapisane są w odwrotnej kolejności, a w każdej linii tekst również napisany jest od tyłu. Uzupełnij funkcję invert tak, aby odwracała tekst z pliku wejściowego i umieszczała go w pliku wyjściowym. Dzięki temu otrzymamy z powrotem oryginalny tekst. Tekst używa kodowania UTF-8. Zaimportuj moduł i uruchom funkcję tak, aby wynik trafił do pliku 'wiki10.txt'."
   ]
  },
  {
   "cell_type": "code",
   "execution_count": 1,
   "metadata": {},
   "outputs": [],
   "source": [
    "def invert(in_filename, out_filename):\n",
    "    \"Odwraca zawartość pliku tekstowego.\"\n",
    "    input_file  = open(in_filename, 'r', encoding = 'utf-8')\n",
    "    output_file = open(out_filename, 'w', encoding = 'utf-8')\n",
    "\n",
    "    # uzupełnij\n",
    "    txt = input_file.read()\n",
    "    output_file.write(txt[::-1])\n",
    "\n",
    "    input_file.close()\n",
    "    output_file.close()\n",
    "\n",
    "\n",
    "# wykonaj funkcję\n",
    "invert('inverted.txt', 'wiki10.txt');"
   ]
  },
  {
   "cell_type": "code",
   "execution_count": null,
   "metadata": {},
   "outputs": [],
   "source": []
  }
 ],
 "metadata": {
  "kernelspec": {
   "display_name": "Python 3.9 (ipykernel)",
   "language": "python",
   "name": "python3"
  },
  "language_info": {
   "codemirror_mode": {
    "name": "ipython",
    "version": 3
   },
   "file_extension": ".py",
   "mimetype": "text/x-python",
   "name": "python",
   "nbconvert_exporter": "python",
   "pygments_lexer": "ipython3",
   "version": "3.9.1"
  }
 },
 "nbformat": 4,
 "nbformat_minor": 5
}

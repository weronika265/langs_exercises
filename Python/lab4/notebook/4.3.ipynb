{
 "cells": [
  {
   "cell_type": "markdown",
   "metadata": {},
   "source": [
    "(1 pkt) Uzupełnij funkcję word_stat, zwracającą listę krotek (słowo, liczba_wystąpień_w_tekście). Przed zwróceniem posortuj wynikową listę funkcją _sort_stat. Wskazówka: wykorzystaj słownik, w którym kluczami są słowa, a wartościami - liczba ich wystąpień."
   ]
  },
  {
   "cell_type": "code",
   "execution_count": null,
   "metadata": {},
   "outputs": [],
   "source": [
    "import re\n",
    "\n",
    "# Funkcje pomocnicze\n",
    "\n",
    "def _words_from_line(line):\n",
    "    \"Zwraca listę słów dla linijki tekstu unicode.\"\n",
    "    words = re.split('[\\W\\d]+', line)\n",
    "    return [w.lower() for w in words if w]\n",
    "\n",
    "def _sort_stat(stat):\n",
    "    \"Sortuje malejąco listę par według drugiego elementu.\"\n",
    "    return sorted(stat, key=lambda p: p[1], reverse=True)\n",
    "\n",
    "# Rozwiązanie\n",
    "\n",
    "def word_stat(filename):\n",
    "    '''\n",
    "    Zwraca posortowaną malejąco statystykę wystąpień słów\n",
    "    w pliku w postaci listy par (słowo, liczba).\n",
    "    '''\n",
    "\n",
    "    # uzupełnij\n",
    "    dict = {}\n",
    "    with open(filename, 'r', encoding = 'utf-8') as f:\n",
    "        for line in f:\n",
    "            words_in_line = _words_from_line(line)\n",
    "            \n",
    "            for word in words_in_line:\n",
    "                if word in dict:\n",
    "                    dict[word] += 1\n",
    "                else:\n",
    "                    dict[word] = 1\n",
    "                    \n",
    "        keys = dict.keys()\n",
    "        values = dict.values()\n",
    "        lst = _sort_stat(tuple(zip(keys, values)))\n",
    "    return lst\n",
    "\n",
    "file = input('Podaj nazwę pliku: ')\n",
    "print(word_stat(file))"
   ]
  },
  {
   "cell_type": "code",
   "execution_count": null,
   "metadata": {},
   "outputs": [],
   "source": []
  }
 ],
 "metadata": {
  "kernelspec": {
   "display_name": "Python 3.9 (ipykernel)",
   "language": "python",
   "name": "python3"
  },
  "language_info": {
   "codemirror_mode": {
    "name": "ipython",
    "version": 3
   },
   "file_extension": ".py",
   "mimetype": "text/x-python",
   "name": "python",
   "nbconvert_exporter": "python",
   "pygments_lexer": "ipython3",
   "version": "3.9.1"
  }
 },
 "nbformat": 4,
 "nbformat_minor": 5
}

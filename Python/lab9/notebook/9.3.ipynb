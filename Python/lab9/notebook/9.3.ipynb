{
 "cells": [
  {
   "cell_type": "markdown",
   "metadata": {},
   "source": [
    "zadanie dodaktowe - EXTRA\n",
    "\n",
    "Proszę napisać funkcję **next_look_and_say(n)**, zwracającą dla danej liczby będącej wyrazem ciągu look-and-say kolejny jego wyraz. Funkcja ma działać dla różnych wyrazów początkowych, a podczas oceny ważniejsza od kodu jest znajomość jego działania. Funkcja nie powinna wykorzystywać _list comprehension_ (wymaganie ma na celu napisanie kodu odmiennego od przykładu z Wikipedii). \n",
    "Przetestuj ją, wykorzystując funkcje z poprzednich zadań:\n",
    "\n",
    "\n",
    "```\n",
    ">>> g = next_look_and_say(1)\n",
    ">>> next(g)\n",
    "1\n",
    ">>> next(g)\n",
    "11\n",
    ">>> next(g)\n",
    "21\n",
    ">>> next(g)\n",
    "1211\n",
    ">>> next(g)\n",
    "111221\n",
    ">>> next(g)\n",
    "312211\n",
    ">>> next(g)\n",
    "13112221\n",
    ">>> next(g)\n",
    "1113213211\n",
    "```"
   ]
  }
 ],
 "metadata": {
  "kernelspec": {
   "display_name": "Python 3.9 (ipykernel)",
   "language": "python",
   "name": "python3"
  },
  "language_info": {
   "codemirror_mode": {
    "name": "ipython",
    "version": 3
   },
   "file_extension": ".py",
   "mimetype": "text/x-python",
   "name": "python",
   "nbconvert_exporter": "python",
   "pygments_lexer": "ipython3",
   "version": "3.9.1"
  }
 },
 "nbformat": 4,
 "nbformat_minor": 5
}

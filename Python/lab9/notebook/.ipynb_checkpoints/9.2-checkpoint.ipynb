{
 "cells": [
  {
   "cell_type": "markdown",
   "metadata": {},
   "source": [
    "Proszę napisać funkcję **get_values(iterator, n)**, zwracającą listę _n_ kolejnych wartości pobranych z iteratora. Gdy wartości się skończą, należy odpowiednio skrócić zwracaną listę. \n",
    "Funkcja powinna działać, jak poniżej:\n",
    "\n",
    "```\n",
    ">>> i = iter(range(10))\n",
    ">>> get_values(i, 3)\n",
    "[0, 1, 2]\n",
    ">>> get_values(i, 5)\n",
    "[3, 4, 5, 6, 7]\n",
    ">>> get_values(i, 4)\n",
    "[8, 9]\n",
    ">>> get_values(i, 4)\n",
    "[]\n",
    "```"
   ]
  },
  {
   "cell_type": "code",
   "execution_count": 11,
   "metadata": {},
   "outputs": [
    {
     "name": "stdout",
     "output_type": "stream",
     "text": [
      "[0, 1, 2]\n",
      "[3, 4, 5, 6, 7]\n",
      "[8, 9]\n",
      "[]\n"
     ]
    }
   ],
   "source": [
    "def get_values(i, n):\n",
    "    ''' funkcja inicjalizuje pustą listę\n",
    "        dodaje do listy następne elementy z iteratora \n",
    "        jeśli napotka brak następnej wartości, przerywa działanie\n",
    "        zwraca listę '''\n",
    "    lst = []\n",
    "    for j in range(0, n):\n",
    "        val = next(i, None)\n",
    "        if val == None:\n",
    "            break\n",
    "        lst.append(val)\n",
    "    return lst\n",
    "\n",
    "i = iter(range(10))\n",
    "print( get_values(i, 3) ) #[0, 1, 2]\n",
    "print( get_values(i, 5) ) #[3, 4, 5, 6, 7]\n",
    "print( get_values(i, 4) ) #[8, 9]\n",
    "print( get_values(i, 4) ) #[]"
   ]
  },
  {
   "cell_type": "code",
   "execution_count": null,
   "metadata": {},
   "outputs": [],
   "source": []
  }
 ],
 "metadata": {
  "kernelspec": {
   "display_name": "Python 3.9 (ipykernel)",
   "language": "python",
   "name": "python3"
  },
  "language_info": {
   "codemirror_mode": {
    "name": "ipython",
    "version": 3
   },
   "file_extension": ".py",
   "mimetype": "text/x-python",
   "name": "python",
   "nbconvert_exporter": "python",
   "pygments_lexer": "ipython3",
   "version": "3.9.1"
  }
 },
 "nbformat": 4,
 "nbformat_minor": 5
}

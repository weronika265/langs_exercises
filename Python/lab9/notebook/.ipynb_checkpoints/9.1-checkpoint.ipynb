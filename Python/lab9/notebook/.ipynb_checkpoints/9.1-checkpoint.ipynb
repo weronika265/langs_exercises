{
 "cells": [
  {
   "cell_type": "markdown",
   "metadata": {},
   "source": [
    "Proszę nsapiać funkcję **fib_gen()**, zwracającą kolejne wartości ciągu Fibonacciego przy pomocy wyrażenia **yield**. Funkcja powinna przechowywać co najwyżej kilka kolejnych wyrazów ciągu (nie należy tworzyć np. listy wszystkich wartości).\n",
    "Funkcja powinna działać, jak poniżej:"
   ]
  },
  {
   "cell_type": "code",
   "execution_count": 30,
   "metadata": {},
   "outputs": [],
   "source": [
    "def fib_gen():\n",
    "    ''' funkcja\n",
    "        inicjalizuje dwie początkowe liczby ciągu Fibonacciego\n",
    "        \"zawiesza\" działanie w momencie obsługi kolejnej liczby z ciągu, będąc gotową do wyświetlenia\n",
    "        przechodz do kolejnej liczby i oblicza następną (suma dwóch poprzednich  liczb) '''\n",
    "    fib1, fib2 = 0, 1\n",
    "    while True:\n",
    "        yield fib1\n",
    "        fib1, fib2 = fib2, fib1 + fib2\n",
    "\n",
    "f = fib_gen()\n",
    "\n",
    "# next(f)\n",
    "#0\n",
    "\n",
    "# next(f)\n",
    "#1\n",
    "\n",
    "# next(f)\n",
    "#1\n",
    "\n",
    "# next(f)\n",
    "#2\n",
    "\n",
    "# next(f)\n",
    "#3\n",
    "\n",
    "# next(f)\n",
    "#5\n",
    "\n",
    "# next(f)\n",
    "#8\n",
    "\n",
    "# next(f)\n",
    "#13"
   ]
  },
  {
   "cell_type": "code",
   "execution_count": 31,
   "metadata": {},
   "outputs": [
    {
     "data": {
      "text/plain": [
       "0"
      ]
     },
     "execution_count": 31,
     "metadata": {},
     "output_type": "execute_result"
    }
   ],
   "source": [
    "next(f)"
   ]
  },
  {
   "cell_type": "code",
   "execution_count": 32,
   "metadata": {},
   "outputs": [
    {
     "data": {
      "text/plain": [
       "1"
      ]
     },
     "execution_count": 32,
     "metadata": {},
     "output_type": "execute_result"
    }
   ],
   "source": [
    "next(f)"
   ]
  },
  {
   "cell_type": "code",
   "execution_count": 33,
   "metadata": {},
   "outputs": [
    {
     "data": {
      "text/plain": [
       "1"
      ]
     },
     "execution_count": 33,
     "metadata": {},
     "output_type": "execute_result"
    }
   ],
   "source": [
    "next(f)"
   ]
  },
  {
   "cell_type": "code",
   "execution_count": 34,
   "metadata": {},
   "outputs": [
    {
     "data": {
      "text/plain": [
       "2"
      ]
     },
     "execution_count": 34,
     "metadata": {},
     "output_type": "execute_result"
    }
   ],
   "source": [
    "next(f)"
   ]
  },
  {
   "cell_type": "code",
   "execution_count": 35,
   "metadata": {},
   "outputs": [
    {
     "data": {
      "text/plain": [
       "3"
      ]
     },
     "execution_count": 35,
     "metadata": {},
     "output_type": "execute_result"
    }
   ],
   "source": [
    "next(f)"
   ]
  },
  {
   "cell_type": "code",
   "execution_count": 36,
   "metadata": {},
   "outputs": [
    {
     "data": {
      "text/plain": [
       "5"
      ]
     },
     "execution_count": 36,
     "metadata": {},
     "output_type": "execute_result"
    }
   ],
   "source": [
    "next(f)"
   ]
  },
  {
   "cell_type": "code",
   "execution_count": 37,
   "metadata": {},
   "outputs": [
    {
     "data": {
      "text/plain": [
       "8"
      ]
     },
     "execution_count": 37,
     "metadata": {},
     "output_type": "execute_result"
    }
   ],
   "source": [
    "next(f)"
   ]
  },
  {
   "cell_type": "code",
   "execution_count": 38,
   "metadata": {},
   "outputs": [
    {
     "data": {
      "text/plain": [
       "13"
      ]
     },
     "execution_count": 38,
     "metadata": {},
     "output_type": "execute_result"
    }
   ],
   "source": [
    "next(f)"
   ]
  },
  {
   "cell_type": "code",
   "execution_count": null,
   "metadata": {},
   "outputs": [],
   "source": []
  }
 ],
 "metadata": {
  "kernelspec": {
   "display_name": "Python 3.9 (ipykernel)",
   "language": "python",
   "name": "python3"
  },
  "language_info": {
   "codemirror_mode": {
    "name": "ipython",
    "version": 3
   },
   "file_extension": ".py",
   "mimetype": "text/x-python",
   "name": "python",
   "nbconvert_exporter": "python",
   "pygments_lexer": "ipython3",
   "version": "3.9.1"
  }
 },
 "nbformat": 4,
 "nbformat_minor": 5
}

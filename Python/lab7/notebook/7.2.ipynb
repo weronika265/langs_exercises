{
 "cells": [
  {
   "cell_type": "markdown",
   "metadata": {},
   "source": [
    "Proszę napisać funkcję **add_to_dict()** dodającą parę klucz-wartość do słownika, która będzie poprawioną wersją add_to_dict() z przykładu z laboratorium - wywołanie bez podania argumentu 'd' powinno za każdym razem tworzyć nowy słownik.\n",
    "\n",
    "_Wskazówka: Zmienić wyrażenie 'd={}' na coś innego i uzupełnić kod funkcji..._\n",
    "\n",
    "```\n",
    "add_to_dict(1, 2)\n",
    "# {1: 2}\n",
    "```\n",
    "\n",
    "```\n",
    "add_to_dict('a', 'b')\n",
    "#{'a': 'b'}\n",
    "```\n",
    "\n",
    "```\n",
    "add_to_dict('c', 'd', {5: 6})\n",
    "# {'c': 'd', 5: 6}\n",
    "```\n",
    "\n",
    "```\n",
    "d = {'x': 'y'}\n",
    "add_to_dict(10, 20, d)\n",
    "#{'x': 'y', 10: 20}\n",
    "```\n",
    "\n",
    "```\n",
    "d\n",
    "#{'x': 'y', 10: 20}\n",
    "```\n"
   ]
  },
  {
   "cell_type": "code",
   "execution_count": 15,
   "metadata": {},
   "outputs": [
    {
     "name": "stdout",
     "output_type": "stream",
     "text": [
      "{1: 2}\n",
      "{'a': 'b'}\n",
      "{5: 6, 'c': 'd'}\n",
      "{'x': 'y', 10: 20}\n",
      "{'x': 'y', 10: 20}\n"
     ]
    }
   ],
   "source": [
    "#\n",
    "# DO UZUPEŁNIENIA\n",
    "#\n",
    "\n",
    "def add_to_dict(key, value, dict=None):\n",
    "    ''' funkcja\n",
    "        pobiera podany klucz, wartość i opcjonalnie słownik\n",
    "        jeśli nie podano słownika, tworzy nowy\n",
    "        dodaje do słownika parę klucz-wartość\n",
    "        zwraca słownik '''\n",
    "    if dict == None:\n",
    "        dict = {}\n",
    "    dict[key] = value\n",
    "    return dict\n",
    "\n",
    "\n",
    "\n",
    "print( add_to_dict(1, 2) )\n",
    "print( add_to_dict('a', 'b') )\n",
    "print( add_to_dict('c', 'd', {5: 6}) )\n",
    "d = {'x': 'y'}\n",
    "print( add_to_dict(10, 20, d) )\n",
    "print(d)"
   ]
  },
  {
   "cell_type": "code",
   "execution_count": null,
   "metadata": {},
   "outputs": [],
   "source": []
  }
 ],
 "metadata": {
  "kernelspec": {
   "display_name": "Python 3.9 (ipykernel)",
   "language": "python",
   "name": "python3"
  },
  "language_info": {
   "codemirror_mode": {
    "name": "ipython",
    "version": 3
   },
   "file_extension": ".py",
   "mimetype": "text/x-python",
   "name": "python",
   "nbconvert_exporter": "python",
   "pygments_lexer": "ipython3",
   "version": "3.9.1"
  }
 },
 "nbformat": 4,
 "nbformat_minor": 5
}

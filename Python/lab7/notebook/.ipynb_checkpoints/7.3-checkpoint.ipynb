{
 "cells": [
  {
   "cell_type": "markdown",
   "metadata": {},
   "source": [
    "Proszę napisać w module 2 (dwie!) dowolne funkcje, wykorzystujące **sensownie** wyrażenia lambda - przypadek ma być taki, w którym użycie tej konstrukcji językowej skraca lub upraszcza program. \n",
    "\n",
    "Podczas oddawania zadań proszę (w komentarzu) uzasadnić użycie wyrażenia lambda w tym przypadku.\n",
    "\n",
    "Jedno z wyrażeń lambda powinno wykorzystywać argumenty z wartościami domyślnymi.\n",
    "\n",
    "Można posłużyć się poprzednimi laboratoriami, usprawniając którąś z funkcji występujących w wykonanych wcześniej zadaniach."
   ]
  },
  {
   "cell_type": "code",
   "execution_count": 73,
   "metadata": {},
   "outputs": [
    {
     "name": "stdout",
     "output_type": "stream",
     "text": [
      "[6, 89, 20]\n",
      "- - - - -\n",
      "[1, 2, 3, 4, 5, 6, 7, 8, 9]\n",
      "[2, 4, 6, 8, 10, 12, 14, 16, 18]\n",
      "[15, 18, 21, 24, 27]\n",
      "[20, 24, 28]\n"
     ]
    }
   ],
   "source": [
    "# funkcja lambda skraca program, umożliwiając filtrowanie listy w \"jednej linii\" i go upraszcza, ponieważ\n",
    "# nie musimy stosować żadnych pętli. Mamy także znacznie większą swobodę w wyborze\n",
    "# parametrów: przesyłamy je przez funkcję i zostają przetworzone przez wyrażenie lambda\n",
    "lst = [3, 6, 2, 89, -67, 20]\n",
    "def filter_list(lst, limit):\n",
    "    ''' funkcja\n",
    "        filtruje podaną listę po ustawionym limicie\n",
    "        zwraca listę liczb większych od limitu '''\n",
    "    filtered = list(filter(lambda x: x > limit, lst))\n",
    "    return filtered\n",
    "\n",
    "print(filter_list(lst, 5))\n",
    "\n",
    "print('- - - - -')\n",
    "\n",
    "# wyrażenie lambda skraca zapis w stosunku do list comprehension, a umieszczona\n",
    "# w funkcji pozwala na dużą swobodę w modyfikacji parametrów\n",
    "def multiply(mp = 1, min = 1, max = 10):\n",
    "    ''' funkcja\n",
    "        mnoży przedział liczb (podanych przez użytkownika lub domyślnych) przez podaną liczbę\n",
    "        zwraca ich listę '''\n",
    "    return list(map(lambda x: x * mp, range(min, max)))\n",
    "\n",
    "print(multiply())\n",
    "print(multiply(2))\n",
    "print(multiply(3, 5))\n",
    "print(multiply(4, 5, 8))"
   ]
  },
  {
   "cell_type": "code",
   "execution_count": null,
   "metadata": {},
   "outputs": [],
   "source": []
  }
 ],
 "metadata": {
  "kernelspec": {
   "display_name": "Python 3.9 (ipykernel)",
   "language": "python",
   "name": "python3"
  },
  "language_info": {
   "codemirror_mode": {
    "name": "ipython",
    "version": 3
   },
   "file_extension": ".py",
   "mimetype": "text/x-python",
   "name": "python",
   "nbconvert_exporter": "python",
   "pygments_lexer": "ipython3",
   "version": "3.9.1"
  }
 },
 "nbformat": 4,
 "nbformat_minor": 5
}

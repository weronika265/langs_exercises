{
 "cells": [
  {
   "cell_type": "markdown",
   "metadata": {},
   "source": [
    "Uwagi odnośnie komentarzy itp. z ostatniego laboratorium pozostają aktualne (każda funkcja ma być udokumentowana).\n",
    "\n",
    "(0.5 pkt) Proszę umieść w module (programie) funkcję **call()**, która potrafi wywołać dowolną funkcję (i ją zwróci) z dowolnymi argumentami, przy czym niech pierwszym argumentem funkcji call() będzie wywoływana funkcja, a pozostałe argumenty (pozycyjne i przekazywane przez słowa kluczowe) powinny zostać przekazane do wywoływanej funkcji.\n",
    "\n",
    "Proszę upewnić się, że call() działa dla dowolnej funkcji i dowolnych argumentów, jak poniżej. **Proszę wymyślić własne przykłady i je zaprezentować** (dopisać z komentarzem).\n",
    "\n",
    "```\n",
    "print( call(max, 4, -5, 3))\n",
    "```\n",
    "\n",
    "```\n",
    "# 4\n",
    "```\n",
    "\n",
    "```\n",
    "print( call(max, 4, -5, 3, key=lambda x: abs(x)) )\n",
    "```\n",
    "\n",
    "```\n",
    "# -5\n",
    "```\n",
    "\n",
    "```\n",
    "print( call(sorted, [1, 3, 2], reverse=True) )\n",
    "```\n",
    "\n",
    "```\n",
    "# [3, 2, 1]\n",
    "```\n"
   ]
  },
  {
   "cell_type": "code",
   "execution_count": 48,
   "metadata": {},
   "outputs": [
    {
     "name": "stdout",
     "output_type": "stream",
     "text": [
      "4\n",
      "-5\n",
      "[3, 2, 1]\n",
      "10\n",
      "Joannie\n"
     ]
    }
   ],
   "source": [
    "#\n",
    "# do uzupełnienia\n",
    "#\n",
    "def call(function, *args, **kw_args):\n",
    "    ''' funkcja\n",
    "        pobiera wybraną funkcję i podane do niej argumenty\n",
    "        zwraca wynik pobranej funkcji '''\n",
    "    return function(*args, **kw_args)\n",
    "\n",
    "print( call(max, [4, -1, 3]) )\n",
    "\n",
    "print( call(max, 4, -5, 3, key=lambda x: abs(x)) )\n",
    "\n",
    "print( call(sorted, [1, 3, 2], reverse=True) )\n",
    "\n",
    "# suma liczb z przedziału <1, 5)\n",
    "print( call(sum, [x for x in range(1, 5)] ) )\n",
    "\n",
    "# wypisywanie najdłuższego słowa\n",
    "print( call(max, 'Ann', 'Alex', 'Claire', 'Joannie', key = lambda x: len(x)) )"
   ]
  },
  {
   "cell_type": "code",
   "execution_count": null,
   "metadata": {},
   "outputs": [],
   "source": []
  }
 ],
 "metadata": {
  "kernelspec": {
   "display_name": "Python 3.9 (ipykernel)",
   "language": "python",
   "name": "python3"
  },
  "language_info": {
   "codemirror_mode": {
    "name": "ipython",
    "version": 3
   },
   "file_extension": ".py",
   "mimetype": "text/x-python",
   "name": "python",
   "nbconvert_exporter": "python",
   "pygments_lexer": "ipython3",
   "version": "3.9.1"
  }
 },
 "nbformat": 4,
 "nbformat_minor": 5
}

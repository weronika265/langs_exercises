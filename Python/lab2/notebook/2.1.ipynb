{
 "cells": [
  {
   "cell_type": "markdown",
   "metadata": {},
   "source": [
    "Proszę stworzyć program, który wczyta liczbę całkowitą podaną przez użytkownika. Wypisze tę liczbę podwojoną, a następnie powtórzy (konkatenacja) ją 5 razy. Następnie policzy i wyświetl tę liczbę podzieloną przez 3 (float), oraz wyświetl resztę z dzielenia przez 7. \n",
    "\n",
    "```\n",
    "Podaj liczbę całkowitą: 6\n",
    "Twoja liczba po podwojeniu to: 12.\n",
    "Powtarzając Twoją liczbę 5 razy otrzymamy: 66666.\n",
    "Podzielona przez 3: 2.0.\n",
    "Reszta z dzielenia przez 7 to: 6. \n",
    "```"
   ]
  },
  {
   "cell_type": "code",
   "execution_count": 4,
   "metadata": {},
   "outputs": [
    {
     "name": "stdout",
     "output_type": "stream",
     "text": [
      "Podaj liczbę całkowitą: 6\n",
      "6\n",
      "Twoja liczba po podwojeniu to: 12.\n",
      "Powtarzając Twoją liczbę 5 razy otrzymamy: 66666.\n",
      "Podzielona przez 3: 2.0.\n",
      "Reszta z dzielenia przez 7 to: 6.\n"
     ]
    }
   ],
   "source": [
    "l = int(input(\"Podaj liczbę całkowitą: \"))  # zastąpić odpowiednią funkcją wczytującą dane od użytkownika\n",
    "\n",
    "# Wypisze wprowadzoną liczbę\n",
    "print(l)\n",
    "\n",
    "# Wypisze podwojoną\n",
    "# print(\"Twoja liczba po podwojeniu to: \"+ str(l * 2) + '.')\n",
    "print(f\"Twoja liczba po podwojeniu to: {l * 2}.\")\n",
    "\n",
    "# Wypisze wiele razy\n",
    "print(\"Powtarzając Twoją liczbę 5 razy otrzymamy:\", str(l) * 5, end=\".\\n\")\n",
    "\n",
    "# Wypisze podzieloną przez 3\n",
    "print(\"Podzielona przez 3:\", 6 / 3, end=\".\\n\")\n",
    "\n",
    "# Wypisze resztę z dzielenia\n",
    "print(\"Reszta z dzielenia przez 7 to:\", l % 7, end=\".\\n\")"
   ]
  },
  {
   "cell_type": "code",
   "execution_count": null,
   "metadata": {},
   "outputs": [],
   "source": []
  }
 ],
 "metadata": {
  "kernelspec": {
   "display_name": "Python 3.9 (ipykernel)",
   "language": "python",
   "name": "python3"
  },
  "language_info": {
   "codemirror_mode": {
    "name": "ipython",
    "version": 3
   },
   "file_extension": ".py",
   "mimetype": "text/x-python",
   "name": "python",
   "nbconvert_exporter": "python",
   "pygments_lexer": "ipython3",
   "version": "3.9.1"
  }
 },
 "nbformat": 4,
 "nbformat_minor": 5
}

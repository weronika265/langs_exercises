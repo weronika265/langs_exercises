{
 "cells": [
  {
   "cell_type": "markdown",
   "metadata": {},
   "source": [
    "Proszę uzupełnić wyrażenia obliczające rozwiązania równania kwadratowego. Program ma wypisać na standardowe wyjście oba rozwiązania - można założyć, że delta będzie dodatnia. Wyrażenia mają jednak działać po zmianie a, b i c na inne wartości.  \n",
    "\n",
    "```\n",
    "Równanie: 1x^2 + -12x + 35 = 0 \n",
    "Rozwiązania: x_1 = 5, x_2 = 7\n",
    "```"
   ]
  },
  {
   "cell_type": "code",
   "execution_count": 57,
   "metadata": {},
   "outputs": [
    {
     "name": "stdout",
     "output_type": "stream",
     "text": [
      "1x^2 + -12x + 35 = 0\n",
      "x_1 = 5.0, x_2 = 7.0\n"
     ]
    }
   ],
   "source": [
    "from math import sqrt\n",
    "a, b, c = 1, -12, 35\n",
    "# ma działać dla dowolnych a, b, c, dla których istnieją rozwiązania \n",
    "# (int i float - bez inputa, wpisywane w kodzie)\n",
    "\n",
    "delta = (b ** 2) - (4 * a * c)          # zastąp zero wzorem na deltę\n",
    "x_1 = (-b - sqrt(delta)) / (2 * a)      # zastąp zero wzorem na rozwiązanie nr 1\n",
    "x_2 = (-b + sqrt(delta)) / (2 * a)      # zastąp zero wzorem na rozwiązanie nr 2\n",
    "\n",
    "# Wypisze równanie\n",
    "print('{}x^2 + {}x + {} = 0'.format(a, b, c))\n",
    "\n",
    "# Wypisze rozwiązania\n",
    "print('x_1 = {}, x_2 = {}'.format(x_1, x_2))"
   ]
  },
  {
   "cell_type": "code",
   "execution_count": 58,
   "metadata": {},
   "outputs": [
    {
     "name": "stdout",
     "output_type": "stream",
     "text": [
      "1x^2 + -12x + 35 = 0\n",
      "x_1 = 5.0, x_2 = 7.0\n"
     ]
    }
   ],
   "source": [
    "from math import sqrt\n",
    "a, b, c = 1, -12, 35\n",
    "\n",
    "print('{}x^2 + {}x + {} = 0'.format(a, b, c))\n",
    "\n",
    "delta = (b ** 2) - (4 * a * c)\n",
    "if delta > 0:\n",
    "    x_1 =   (-b - sqrt(delta)) / (2 * a)\n",
    "    x_2 = (-b + sqrt(delta)) / (2 * a)\n",
    "    print('x_1 = {}, x_2 = {}'.format(x_1, x_2))\n",
    "elif delta == 0:\n",
    "    x_0 = -b / (2 * a)\n",
    "    print('x_0 = {}'.format(x_0))\n",
    "else:\n",
    "    print('Równanie nie ma rozwiązania.')"
   ]
  },
  {
   "cell_type": "code",
   "execution_count": null,
   "metadata": {},
   "outputs": [],
   "source": []
  }
 ],
 "metadata": {
  "kernelspec": {
   "display_name": "Python 3.9 (ipykernel)",
   "language": "python",
   "name": "python3"
  },
  "language_info": {
   "codemirror_mode": {
    "name": "ipython",
    "version": 3
   },
   "file_extension": ".py",
   "mimetype": "text/x-python",
   "name": "python",
   "nbconvert_exporter": "python",
   "pygments_lexer": "ipython3",
   "version": "3.9.1"
  }
 },
 "nbformat": 4,
 "nbformat_minor": 5
}

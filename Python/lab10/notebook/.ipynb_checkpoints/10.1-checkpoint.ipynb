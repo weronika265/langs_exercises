{
 "cells": [
  {
   "cell_type": "markdown",
   "metadata": {},
   "source": [
    "Klasa _SquaresGen_ umożliwia tylko jednokrotną iterację, ponieważ metoda _\\_\\_iter\\_\\__ zwraca bieżący obiekt. \n",
    "\n",
    "Proszę zmodyfikować kod tak, aby możliwa była wielokrotna iteracja - metoda _\\_\\_iter\\_\\__ powinna zwracać za każdym razem nowy obiekt, który udostępni metodę ___next\\___. W tym celu proszę podzielić funkcjonalność klasy _SquaresGen_ na dwie klasy - jedna z nich powinna posiadać metodę _\\__iter\\___, a druga _\\__next\\___.\n",
    "\n",
    "Przykład działania poprawnego rozwiązania:\n",
    "```\n",
    "g = SquaresGen(20)\n",
    "print(list(g))\n",
    "# [1, 4, 9, 16, 25, 36, 49, 64, 81, 100, 121, 144, 169, 196, 225, 256, 289, 324, 361, 400]\n",
    "```\n",
    "\n",
    "```\n",
    "# ponowne wywołanie list pobiera nowy iterator\n",
    "print(list(g))\n",
    "# [1, 4, 9, 16, 25, 36, 49, 64, 81, 100, 121, 144, 169, 196, 225, 256, 289, 324, 361, 400]\n",
    "```"
   ]
  },
  {
   "cell_type": "code",
   "execution_count": 5,
   "metadata": {},
   "outputs": [
    {
     "name": "stdout",
     "output_type": "stream",
     "text": [
      "[1, 4, 9, 16, 25, 36, 49, 64, 81, 100, 121, 144, 169, 196, 225, 256, 289, 324, 361, 400]\n",
      "[1, 4, 9, 16, 25, 36, 49, 64, 81, 100, 121, 144, 169, 196, 225, 256, 289, 324, 361, 400]\n"
     ]
    }
   ],
   "source": [
    "class SquaresGen1:\n",
    "    \"\"\"Generator kwadratów kolejnych liczb naturalnych.\n",
    "       Maksymalną liczbę wyrazów określa 'limit'.\n",
    "    \"\"\"\n",
    "    def __init__(self, limit):\n",
    "        \"inicjalizuje licznik na 0 i ustawia limit\"\n",
    "        self.count = 0\n",
    "        self.limit = limit\n",
    "\n",
    "    def __iter__(self):\n",
    "        \"Pobiera iterator, który zaczyna się od pierwszego elementu\"\n",
    "        self.count = 0\n",
    "        return self\n",
    "\n",
    "    def __next__(self):\n",
    "        \"Zwraca kolejny element ciągu\"\n",
    "        self.count += 1\n",
    "        if self.count > self.limit:\n",
    "            raise StopIteration\n",
    "        return self.count ** 2\n",
    "    \n",
    "g = SquaresGen1(20)\n",
    "print(list(g))\n",
    "print(list(g))"
   ]
  },
  {
   "cell_type": "code",
   "execution_count": null,
   "metadata": {},
   "outputs": [],
   "source": []
  }
 ],
 "metadata": {
  "kernelspec": {
   "display_name": "Python 3.9 (ipykernel)",
   "language": "python",
   "name": "python3"
  },
  "language_info": {
   "codemirror_mode": {
    "name": "ipython",
    "version": 3
   },
   "file_extension": ".py",
   "mimetype": "text/x-python",
   "name": "python",
   "nbconvert_exporter": "python",
   "pygments_lexer": "ipython3",
   "version": "3.9.1"
  }
 },
 "nbformat": 4,
 "nbformat_minor": 5
}

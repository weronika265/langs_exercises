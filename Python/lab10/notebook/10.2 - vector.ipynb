{
 "cells": [
  {
   "cell_type": "markdown",
   "metadata": {},
   "source": [
    "Proszę dodać do klasy _Vector_ metodę realizującą iloczyn skalarny przy użyciu operatora mnożenia.\n",
    "\n",
    "```\n",
    "# Przykład działania poprawnego rozwiązania.\n",
    "v1 = lab11.Vector(0, 1, 0)\n",
    "v2 = lab11.Vector(3, 5, 3)\n",
    "v1 * v2\n",
    "# 5.0\n",
    "```\n",
    "\n",
    "Proszę dodać do klasy _Vector_ metodę norm zwracającą normę wektora, czyli jego długość.\n",
    "\n",
    "```\n",
    "# Przykład działania poprawnego rozwiązania.\n",
    "v1.norm()\n",
    "# 1.0\n",
    "v2.norm()\n",
    "# 6.557438524302\n",
    "```\n",
    "\n",
    "Proszę dodać do klasy _Vector_ metodę ___bool___, sprawdzającą, czy norma jest niezerowa. Jaki efekt ma dodanie tej metody? Sprawdź w dokumentacji! (https://docs.python.org/3/reference/datamodel.html#object.\\__bool\\__)"
   ]
  },
  {
   "cell_type": "code",
   "execution_count": 6,
   "metadata": {},
   "outputs": [],
   "source": [
    "class Vector:\n",
    "    \"Wektor w trójwymiarowej przestrzeni euklidesowej.\"\n",
    "    def __init__(self, x, y, z):\n",
    "        self.x = float(x)\n",
    "        self.y = float(y)\n",
    "        self.z = float(z)\n",
    "\n",
    "    def __repr__(self):\n",
    "        \"zwraca sformatowane parametry wektora\"\n",
    "        return '[%.2f, %.2f, %.2f]' % (self.x, self.y, self.z)\n",
    "\n",
    "    def __add__(self, vec):\n",
    "        \"suma: self + vec\"\n",
    "        return Vector(self.x + vec.x, self.y + vec.y, self.z + vec.z)\n",
    "    \n",
    "    def __mul__(self, vec):\n",
    "        \"iloczyn skalarny wektora\"\n",
    "        return self.x * vec.x + self.y * vec.y + self.z * vec.z\n",
    "\n",
    "    ## def __iadd__(self, vec):\n",
    "    ##     \"suma: self += vec\"\n",
    "    ##     self.x += vec.x\n",
    "    ##     self.y += vec.y\n",
    "    ##     self.z += vec.z\n",
    "    ##     return self\n",
    "\n",
    "    def __eq__(self, vec):\n",
    "        \"sprawdza, czy wektory są równe\"\n",
    "        return self.x == vec.x and self.y == vec.y and self.z == vec.z\n",
    "\n",
    "    def __ne__(self, vec):\n",
    "        \"sprawdza, czy wektory nie są równe\"\n",
    "        return not self == vec\n",
    "    \n",
    "    def norm(self):\n",
    "        \"norma (długość) wektora\"\n",
    "        print((self.x**2 + self.y**2 + self.z**2)**.5)\n",
    "    # ??    \n",
    "    def __bool__(self):\n",
    "        \"sprawdza, czy norma jest niezerowa\"\n",
    "        return bool((self.x**2 + self.y**2 + self.z**2)**.5)"
   ]
  },
  {
   "cell_type": "code",
   "execution_count": 7,
   "metadata": {},
   "outputs": [
    {
     "data": {
      "text/plain": [
       "5.0"
      ]
     },
     "execution_count": 7,
     "metadata": {},
     "output_type": "execute_result"
    }
   ],
   "source": [
    "v1 = Vector(0, 1, 0)\n",
    "v2 = Vector(3, 5, 3)\n",
    "v1 * v2"
   ]
  },
  {
   "cell_type": "code",
   "execution_count": 8,
   "metadata": {},
   "outputs": [
    {
     "name": "stdout",
     "output_type": "stream",
     "text": [
      "1.0\n",
      "6.557438524302\n"
     ]
    }
   ],
   "source": [
    "v1.norm()\n",
    "v2.norm()"
   ]
  },
  {
   "cell_type": "code",
   "execution_count": 9,
   "metadata": {},
   "outputs": [
    {
     "data": {
      "text/plain": [
       "True"
      ]
     },
     "execution_count": 9,
     "metadata": {},
     "output_type": "execute_result"
    }
   ],
   "source": [
    "v1.__bool__()"
   ]
  },
  {
   "cell_type": "code",
   "execution_count": 10,
   "metadata": {},
   "outputs": [
    {
     "data": {
      "text/plain": [
       "False"
      ]
     },
     "execution_count": 10,
     "metadata": {},
     "output_type": "execute_result"
    }
   ],
   "source": [
    "v1 == v2"
   ]
  },
  {
   "cell_type": "code",
   "execution_count": 11,
   "metadata": {},
   "outputs": [
    {
     "data": {
      "text/plain": [
       "True"
      ]
     },
     "execution_count": 11,
     "metadata": {},
     "output_type": "execute_result"
    }
   ],
   "source": [
    "v1 != v2"
   ]
  },
  {
   "cell_type": "code",
   "execution_count": null,
   "metadata": {},
   "outputs": [],
   "source": []
  }
 ],
 "metadata": {
  "kernelspec": {
   "display_name": "Python 3.9 (ipykernel)",
   "language": "python",
   "name": "python3"
  },
  "language_info": {
   "codemirror_mode": {
    "name": "ipython",
    "version": 3
   },
   "file_extension": ".py",
   "mimetype": "text/x-python",
   "name": "python",
   "nbconvert_exporter": "python",
   "pygments_lexer": "ipython3",
   "version": "3.9.1"
  }
 },
 "nbformat": 4,
 "nbformat_minor": 5
}

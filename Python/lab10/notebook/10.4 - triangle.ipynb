{
 "cells": [
  {
   "cell_type": "markdown",
   "metadata": {},
   "source": [
    "Proszę skopiować kod klasy _Vector_ z zadania 10.2 oraz klasy _Point_ z zadania 10.3.\n",
    "\n",
    "\n",
    "Proszę dodać klasę _Triangle_. Trójkąt ma wypisywać wszystkie swoje punkty i udostępniać metody obliczające jego pole powierzchni i obwód. \n",
    "\n",
    "```\n",
    "A = Point(0, 0, 0)\n",
    "B = Point(1, 0, 0)\n",
    "C = Point(0, 1, 0)\n",
    "t = Triangle(A, B, C)\n",
    "print(t)\n",
    "# triangle: (0.00, 0.00, 0.00), (1.00, 0.00, 0.00), (0.00, 1.00, 0.00)\n",
    "```\n",
    "\n",
    "```\n",
    "print(t.perimeter())\n",
    "# 3.414213562373095\n",
    "```\n",
    "\n",
    "```\n",
    "print(t.area())\n",
    "# 0.4999999999999999\n",
    "```\n",
    "\n",
    " \n",
    "\n",
    "**Wszystkie klasy** powinny umożliwiać porównywanie przy pomocy '==' i '!='. \n",
    "\n",
    "Dwa punkty są równe, gdy maja wszystkie współrzędne o równych wartościach. \n",
    "\n",
    "Dwa trójkąty są równe, gdy zawierają punkty parami równe, obojętnie w jakiej kolejności.\n",
    "\n",
    "**Wszystkie metody** powinny być udokumentowane."
   ]
  },
  {
   "cell_type": "code",
   "execution_count": 172,
   "metadata": {},
   "outputs": [],
   "source": [
    "class Vector:\n",
    "    \"Wektor w trójwymiarowej przestrzeni euklidesowej.\"\n",
    "    def __init__(self, x, y, z):\n",
    "        self.x = float(x)\n",
    "        self.y = float(y)\n",
    "        self.z = float(z)\n",
    "\n",
    "    def __repr__(self):\n",
    "        \"zwraca sformatowane parametry wektora\"\n",
    "        return '[%.2f, %.2f, %.2f]' % (self.x, self.y, self.z)\n",
    "\n",
    "    def __add__(self, vec):\n",
    "        \"suma: self + vec\"\n",
    "        return Vector(self.x + vec.x, self.y + vec.y, self.z + vec.z)\n",
    "    \n",
    "    def __mul__(self, vec):\n",
    "        \"iloczyn skalarny wektora\"\n",
    "        return self.x * vec.x + self.y * vec.y + self.z * vec.z\n",
    "\n",
    "    ## def __iadd__(self, vec):\n",
    "    ##     \"suma: self += vec\"\n",
    "    ##     self.x += vec.x\n",
    "    ##     self.y += vec.y\n",
    "    ##     self.z += vec.z\n",
    "    ##     return self\n",
    "\n",
    "    def __eq__(self, vec):\n",
    "        \"sprawdza, czy wektory są równe\"\n",
    "        return self.x == vec.x and self.y == vec.y and self.z == vec.z\n",
    "\n",
    "    def __ne__(self, vec):\n",
    "        \"sprawdza, czy wektory nie są równe\"\n",
    "        return not self == vec\n",
    "    \n",
    "    def norm(self):\n",
    "        \"norma (długość) wektora\"\n",
    "        print((self.x**2 + self.y**2 + self.z**2)**.5)\n",
    "    # ??    \n",
    "    def __bool__(self):\n",
    "        \"sprawdza, czy norma jest niezerowa\"\n",
    "        return bool((self.x**2 + self.y**2 + self.z**2)**.5)\n",
    "    \n",
    "class Point:\n",
    "    \"Punkt w trójwymiarowej przestrzeni euklidesowej.\"\n",
    "    def __init__(self, x, y, z):\n",
    "        self.x = x\n",
    "        self.y = y\n",
    "        self.z = z\n",
    "        \n",
    "    def __repr__(self):\n",
    "        \"zwraca sformatowane parametry punktu\"\n",
    "        return '(%.2f, %.2f, %.2f)' % (self.x, self.y, self.z)\n",
    "    \n",
    "    def __sub__(self, vec):\n",
    "        \"odejmowanie wektorów\"\n",
    "        return Vector(self.x - vec.x, self.y - vec.y, self.z - vec.z)\n",
    "    \n",
    "    def __add__(self, vec):\n",
    "        \"dodawanie wektorów\"\n",
    "        return Point(self.x + vec.x, self.y + vec.y, self.z + vec.z)\n",
    "    \n",
    "    def __iadd__(self, vec):\n",
    "        \"przesunięcie wektora\"\n",
    "        self.x += vec.x\n",
    "        self.y += vec.y\n",
    "        self.z += vec.z\n",
    "        return self\n",
    "    \n",
    "    def __eq__(self, point):\n",
    "        \"sprawdza, czy punkty są równe\"\n",
    "        return self.x == point.x and self.y == point.y and self.z == point.z\n",
    "    \n",
    "    def __ne__(self, point):\n",
    "        \"sprawdza, czy punkty nie są równe\"\n",
    "        return not self == point\n",
    "\n",
    "class Triangle:\n",
    "    \"Trójkąt w trójwymiarowej przestrzeni euklidesowej.\"\n",
    "    def __init__(self, p1, p2, p3):\n",
    "        self.p1 = p1\n",
    "        self.p2 = p2\n",
    "        self.p3 = p3\n",
    "        \n",
    "    def __repr__(self):\n",
    "        \"zwraca sformatowane punkty trójkąta\"\n",
    "        return 'triangle: %s, %s, %s' % (self.p1, self.p2, self.p3)\n",
    "    \n",
    "    def perimeter(self):\n",
    "        \"wzraca obwód trójkąta\"\n",
    "        self.n1 = ((self.p2.x - self.p3.x)**2 + (self.p2.y - self.p3.y)**2)**.5\n",
    "        self.n2 = ((self.p1.x - self.p3.x)**2 + (self.p1.y - self.p3.y)**2)**.5\n",
    "        self.n3 = ((self.p1.x - self.p2.x)**2 + (self.p1.y - self.p2.y)**2)**.5\n",
    "        return self.n1 + self.n2 + self.n3\n",
    "    \n",
    "    def area(self):\n",
    "        \"zwraca pole trójkąta\"\n",
    "        s = self.perimeter()/2\n",
    "        a = (s*(s-self.n1)*(s-self.n2)*(s-self.n3))**.5\n",
    "        return a\n",
    "    \n",
    "    def __eq__(self, triangle):\n",
    "        \"sprawdza, czy trójkąty są równe\"\n",
    "        t1, t2 = set(), set()\n",
    "        points_t1 = [str(self.p1), str(self.p2), str(self.p3)]\n",
    "        points_t2 = [str(triangle.p1), str(triangle.p2), str(triangle.p3)]\n",
    "        t1.update(points_t1)\n",
    "        t2.update(points_t2)\n",
    "        is_eq = len(t1 & t2)\n",
    "        return is_eq == 3\n",
    "    \n",
    "    def __ne__(self, triangle):\n",
    "        \"sprawdza, czy trójkąty nie są równe\"\n",
    "        return not self == triangle"
   ]
  },
  {
   "cell_type": "code",
   "execution_count": 173,
   "metadata": {},
   "outputs": [
    {
     "name": "stdout",
     "output_type": "stream",
     "text": [
      "triangle: (0.00, 0.00, 0.00), (1.00, 0.00, 0.00), (0.00, 1.00, 0.00)\n"
     ]
    }
   ],
   "source": [
    "A = Point(0, 0, 0)\n",
    "B = Point(1, 0, 0)\n",
    "C = Point(0, 1, 0)\n",
    "t = Triangle(A, B, C)\n",
    "print(t)"
   ]
  },
  {
   "cell_type": "code",
   "execution_count": 174,
   "metadata": {
    "scrolled": true
   },
   "outputs": [
    {
     "name": "stdout",
     "output_type": "stream",
     "text": [
      "3.414213562373095\n"
     ]
    }
   ],
   "source": [
    "print(t.perimeter())"
   ]
  },
  {
   "cell_type": "code",
   "execution_count": 175,
   "metadata": {},
   "outputs": [
    {
     "name": "stdout",
     "output_type": "stream",
     "text": [
      "0.4999999999999998\n"
     ]
    }
   ],
   "source": [
    "print(t.area())"
   ]
  },
  {
   "cell_type": "code",
   "execution_count": 176,
   "metadata": {},
   "outputs": [
    {
     "data": {
      "text/plain": [
       "False"
      ]
     },
     "execution_count": 176,
     "metadata": {},
     "output_type": "execute_result"
    }
   ],
   "source": [
    "A == B"
   ]
  },
  {
   "cell_type": "code",
   "execution_count": 177,
   "metadata": {},
   "outputs": [
    {
     "data": {
      "text/plain": [
       "True"
      ]
     },
     "execution_count": 177,
     "metadata": {},
     "output_type": "execute_result"
    }
   ],
   "source": [
    "A != B"
   ]
  },
  {
   "cell_type": "code",
   "execution_count": 178,
   "metadata": {},
   "outputs": [
    {
     "data": {
      "text/plain": [
       "False"
      ]
     },
     "execution_count": 178,
     "metadata": {},
     "output_type": "execute_result"
    }
   ],
   "source": [
    "D = Point(1, 0, 0)\n",
    "E = Point(0, 0, 0)\n",
    "F = Point(0, 1, 0)\n",
    "t2 = Triangle(D, E, F)\n",
    "t != t2"
   ]
  },
  {
   "cell_type": "code",
   "execution_count": 179,
   "metadata": {},
   "outputs": [
    {
     "data": {
      "text/plain": [
       "True"
      ]
     },
     "execution_count": 179,
     "metadata": {},
     "output_type": "execute_result"
    }
   ],
   "source": [
    "t == t2"
   ]
  },
  {
   "cell_type": "code",
   "execution_count": null,
   "metadata": {},
   "outputs": [],
   "source": []
  }
 ],
 "metadata": {
  "kernelspec": {
   "display_name": "Python 3.9 (ipykernel)",
   "language": "python",
   "name": "python3"
  },
  "language_info": {
   "codemirror_mode": {
    "name": "ipython",
    "version": 3
   },
   "file_extension": ".py",
   "mimetype": "text/x-python",
   "name": "python",
   "nbconvert_exporter": "python",
   "pygments_lexer": "ipython3",
   "version": "3.9.1"
  }
 },
 "nbformat": 4,
 "nbformat_minor": 5
}

{
 "cells": [
  {
   "cell_type": "markdown",
   "metadata": {},
   "source": [
    "Proszę skopiować kod klasy Vector z zadania 10.2.\n",
    "\n",
    "Proszę dodać klasę _Point_, reprezentującą punkt w przestrzeni euklidesowej 3D. Powinien on mieć 3 współrzędne rzeczywiste (jak wektor) i wypisywać się w nawiasach okrągłych z dokładnością do 2 cyfr po przecinku.\n",
    "\n",
    "```\n",
    "A = Point(0, 1, 0)\n",
    "print(A)\n",
    "# (0.00, 1.00, 0.00)\n",
    "```\n",
    "\n",
    "Odejmowanie dwóch punktów powinno zwrócić wektor prowadzący od drugiego do pierwszego.\n",
    "\n",
    "```\n",
    "A = Point(2, 1, 0)\n",
    "B = Point(0, 1, 1)\n",
    "print(A - B)\n",
    "# [2.00, 0.00, -1.00]\n",
    "```\n",
    "\n",
    "Dodawanie punktu i wektora powinno zwrócić punkt o nowych współrzędnych. Obsłuż zarówno __add__ jak i ___iadd___.  Metoda __add__() tworzy nowy punkt, __iadd__() przesuwa istniejący.\n",
    "\n",
    "```\n",
    "A = Point(0, 1, 0)\n",
    "v = Vector(3, 4, 5)\n",
    "print(A + v)\n",
    "# (3.00, 5.00, 5.00)\n",
    "```\n",
    "\n",
    "```\n",
    "print(id(A))\n",
    "# 15120400\n",
    "```\n",
    "\n",
    "```\n",
    "A += v\n",
    "print(A)\n",
    "# (3.00, 5.00, 5.00)\n",
    "```\n",
    "\n",
    "```\n",
    "A += v\n",
    "print(A)\n",
    "# (6.00, 9.00, 10.00)\n",
    "```\n",
    "\n",
    "```\n",
    "print(id(A))\n",
    "# 15120400\n",
    "```"
   ]
  },
  {
   "cell_type": "code",
   "execution_count": 44,
   "metadata": {},
   "outputs": [],
   "source": [
    "class Vector:\n",
    "    \"Wektor w trójwymiarowej przestrzeni euklidesowej.\"\n",
    "    def __init__(self, x, y, z):\n",
    "        self.x = float(x)\n",
    "        self.y = float(y)\n",
    "        self.z = float(z)\n",
    "\n",
    "    def __repr__(self):\n",
    "        \"zwraca sformatowane parametry wektora\"\n",
    "        return '[%.2f, %.2f, %.2f]' % (self.x, self.y, self.z)\n",
    "\n",
    "    def __add__(self, vec):\n",
    "        \"suma: self + vec\"\n",
    "        return Vector(self.x + vec.x, self.y + vec.y, self.z + vec.z)\n",
    "    \n",
    "    def __mul__(self, vec):\n",
    "        \"iloczyn skalarny wektora\"\n",
    "        return self.x * vec.x + self.y * vec.y + self.z * vec.z\n",
    "\n",
    "    ## def __iadd__(self, vec):\n",
    "    ##     \"suma: self += vec\"\n",
    "    ##     self.x += vec.x\n",
    "    ##     self.y += vec.y\n",
    "    ##     self.z += vec.z\n",
    "    ##     return self\n",
    "\n",
    "    def __eq__(self, vec):\n",
    "        \"sprawdza, czy wektory są równe\"\n",
    "        return self.x == vec.x and self.y == vec.y and self.z == vec.z\n",
    "\n",
    "    def __ne__(self, vec):\n",
    "        \"sprawdza, czy wektory nie są równe\"\n",
    "        return not self == vec\n",
    "    \n",
    "    def norm(self):\n",
    "        \"norma (długość) wektora\"\n",
    "        print((self.x**2 + self.y**2 + self.z**2)**.5)\n",
    "    # ??    \n",
    "    def __bool__(self):\n",
    "        \"sprawdza, czy norma jest niezerowa\"\n",
    "        return bool((self.x**2 + self.y**2 + self.z**2)**.5)\n",
    "\n",
    "class Point:\n",
    "    \"Punkt w trójwymiarowej przestrzeni euklidesowej.\"\n",
    "    def __init__(self, x, y, z):\n",
    "        self.x = x\n",
    "        self.y = y\n",
    "        self.z = z\n",
    "        \n",
    "    def __repr__(self):\n",
    "        \"zwraca sformatowane parametry punktu\"\n",
    "        return '(%.2f, %.2f, %.2f)' % (self.x, self.y, self.z)\n",
    "    \n",
    "    def __sub__(self, vec):\n",
    "        \"odejmowanie wektorów\"\n",
    "        return Vector(self.x - vec.x, self.y - vec.y, self.z - vec.z)\n",
    "    \n",
    "    def __add__(self, vec):\n",
    "        \"dodawanie wektorów\"\n",
    "        return Point(self.x + vec.x, self.y + vec.y, self.z + vec.z)\n",
    "    \n",
    "    def __iadd__(self, vec):\n",
    "        \"przesunięcie wektora\"\n",
    "        self.x += vec.x\n",
    "        self.y += vec.y\n",
    "        self.z += vec.z\n",
    "        return self"
   ]
  },
  {
   "cell_type": "code",
   "execution_count": 45,
   "metadata": {},
   "outputs": [
    {
     "name": "stdout",
     "output_type": "stream",
     "text": [
      "(0.00, 1.00, 0.00)\n"
     ]
    }
   ],
   "source": [
    "A = Point(0, 1, 0)\n",
    "print(A)"
   ]
  },
  {
   "cell_type": "code",
   "execution_count": 46,
   "metadata": {},
   "outputs": [
    {
     "name": "stdout",
     "output_type": "stream",
     "text": [
      "[2.00, 0.00, -1.00]\n"
     ]
    }
   ],
   "source": [
    "A = Point(2, 1, 0)\n",
    "B = Point(0, 1, 1)\n",
    "print(A - B)"
   ]
  },
  {
   "cell_type": "code",
   "execution_count": 47,
   "metadata": {},
   "outputs": [
    {
     "name": "stdout",
     "output_type": "stream",
     "text": [
      "(3.00, 5.00, 5.00)\n"
     ]
    }
   ],
   "source": [
    "A = Point(0, 1, 0)\n",
    "v = Vector(3, 4, 5)\n",
    "print(A + v)"
   ]
  },
  {
   "cell_type": "code",
   "execution_count": 48,
   "metadata": {},
   "outputs": [
    {
     "name": "stdout",
     "output_type": "stream",
     "text": [
      "140718837759664\n"
     ]
    }
   ],
   "source": [
    "print(id(A))"
   ]
  },
  {
   "cell_type": "code",
   "execution_count": 49,
   "metadata": {},
   "outputs": [
    {
     "name": "stdout",
     "output_type": "stream",
     "text": [
      "(3.00, 5.00, 5.00)\n"
     ]
    }
   ],
   "source": [
    "A += v\n",
    "print(A)"
   ]
  },
  {
   "cell_type": "code",
   "execution_count": 50,
   "metadata": {},
   "outputs": [
    {
     "name": "stdout",
     "output_type": "stream",
     "text": [
      "(6.00, 9.00, 10.00)\n"
     ]
    }
   ],
   "source": [
    "A += v\n",
    "print(A)"
   ]
  },
  {
   "cell_type": "code",
   "execution_count": 51,
   "metadata": {},
   "outputs": [
    {
     "name": "stdout",
     "output_type": "stream",
     "text": [
      "140718837759664\n"
     ]
    }
   ],
   "source": [
    "print(id(A))"
   ]
  },
  {
   "cell_type": "code",
   "execution_count": null,
   "metadata": {},
   "outputs": [],
   "source": []
  }
 ],
 "metadata": {
  "kernelspec": {
   "display_name": "Python 3.9 (ipykernel)",
   "language": "python",
   "name": "python3"
  },
  "language_info": {
   "codemirror_mode": {
    "name": "ipython",
    "version": 3
   },
   "file_extension": ".py",
   "mimetype": "text/x-python",
   "name": "python",
   "nbconvert_exporter": "python",
   "pygments_lexer": "ipython3",
   "version": "3.9.1"
  }
 },
 "nbformat": 4,
 "nbformat_minor": 5
}

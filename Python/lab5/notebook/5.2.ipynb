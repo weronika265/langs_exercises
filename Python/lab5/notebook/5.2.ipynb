{
 "cells": [
  {
   "cell_type": "markdown",
   "metadata": {},
   "source": [
    "Wypisz w kolejnych wierszach liczby od 2 do x. Określ czy jest pierwsza czy złożona (i z czego). \n",
    "\n",
    " \n",
    "```\n",
    "2 liczba pierwsza\n",
    "3 liczba pierwsza\n",
    "4 liczba złożona: 2*2\n",
    "5 liczba pierwsza\n",
    "6 liczba złożona: 2*3\n",
    "7 liczba pierwsza\n",
    "8 liczba złożona: 2*2*2\n",
    "```"
   ]
  },
  {
   "cell_type": "code",
   "execution_count": 5,
   "metadata": {},
   "outputs": [
    {
     "name": "stdout",
     "output_type": "stream",
     "text": [
      "2 liczba pierwsza\n",
      "3 liczba pierwsza\n",
      "4 liczba złożona: 2*2\n",
      "5 liczba pierwsza\n",
      "6 liczba złożona: 2*3\n",
      "7 liczba pierwsza\n",
      "8 liczba złożona: 2*2*2\n"
     ]
    }
   ],
   "source": [
    "def czy_pierwsze(x):\n",
    "    \"Wypisuje liczby od 2 do x. Określa czy są pierwsze czy złożone (i z jakich pierwszych się składają).\"\n",
    "    #\n",
    "    # do uzupełnienia\n",
    "    #\n",
    "    for i in range(2, x + 1):\n",
    "        if i != 1 and all(i % j for j in range(2, i)):\n",
    "            # print(f\"{i} liczba pierwsza\")\n",
    "            print(str(i) + \" liczba pierwsza\")\n",
    "        else:\n",
    "            divisor = 2\n",
    "            prime_factors = []\n",
    "            num = i\n",
    "            \n",
    "            while num > 1:\n",
    "                if num % divisor == 0:\n",
    "                    prime_factors.append(divisor)\n",
    "                    num /= divisor\n",
    "                else:\n",
    "                    divisor += 1\n",
    "                    \n",
    "            list_to_string = '*'.join(map(str, prime_factors))\n",
    "            # print(f\"{i} liczba złożona: {list_to_string}\")\n",
    "            print(str(i) + \" liczba złożona: \" + list_to_string)\n",
    "                    \n",
    "                \n",
    "czy_pierwsze(8)"
   ]
  },
  {
   "cell_type": "code",
   "execution_count": null,
   "metadata": {},
   "outputs": [],
   "source": []
  }
 ],
 "metadata": {
  "kernelspec": {
   "display_name": "Python 3.9 (ipykernel)",
   "language": "python",
   "name": "python3"
  },
  "language_info": {
   "codemirror_mode": {
    "name": "ipython",
    "version": 3
   },
   "file_extension": ".py",
   "mimetype": "text/x-python",
   "name": "python",
   "nbconvert_exporter": "python",
   "pygments_lexer": "ipython3",
   "version": "3.9.1"
  }
 },
 "nbformat": 4,
 "nbformat_minor": 5
}

{
 "cells": [
  {
   "cell_type": "markdown",
   "metadata": {},
   "source": [
    "(0,5 pkt) Proszę wypisać w kolejnych wierszach liczby od x do y i określić czy dana liczba jest parzysta czy nieparzysta. \n",
    "\n",
    "```\n",
    "1 nieparzysta\n",
    "2 parzysta\n",
    "3 nieparzysta\n",
    "4 parzysta\n",
    "```"
   ]
  },
  {
   "cell_type": "code",
   "execution_count": 8,
   "metadata": {},
   "outputs": [
    {
     "name": "stdout",
     "output_type": "stream",
     "text": [
      "1 nieparzysta\n",
      "2 parzysta\n",
      "3 nieparzysta\n",
      "4 parzysta\n"
     ]
    }
   ],
   "source": [
    "def czy_parzyste(x, y):\n",
    "    \"Wypisuje liczby od x do y. Określa czy są parzyste czy nie.\"\n",
    "    #\n",
    "    # do uzupełnienia\n",
    "    #\n",
    "    for i in range(x, y + 1):\n",
    "        if i % 2 == 0:\n",
    "            # print(f\"{i} parzysta\")\n",
    "            print(str(i) + \" parzysta\")\n",
    "        else:\n",
    "            # print(f\"{i} nieparzysta\")\n",
    "            print(str(i) + \" nieparzysta\")\n",
    "  \n",
    "\n",
    "czy_parzyste(1, 4)"
   ]
  },
  {
   "cell_type": "code",
   "execution_count": null,
   "metadata": {},
   "outputs": [],
   "source": []
  }
 ],
 "metadata": {
  "kernelspec": {
   "display_name": "Python 3.9 (ipykernel)",
   "language": "python",
   "name": "python3"
  },
  "language_info": {
   "codemirror_mode": {
    "name": "ipython",
    "version": 3
   },
   "file_extension": ".py",
   "mimetype": "text/x-python",
   "name": "python",
   "nbconvert_exporter": "python",
   "pygments_lexer": "ipython3",
   "version": "3.9.1"
  }
 },
 "nbformat": 4,
 "nbformat_minor": 5
}

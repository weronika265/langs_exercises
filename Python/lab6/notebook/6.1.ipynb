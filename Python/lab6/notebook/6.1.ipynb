{
 "cells": [
  {
   "cell_type": "markdown",
   "metadata": {},
   "source": [
    "(0,5 pkt)\n",
    "\n",
    "- Utwórz w module zmienną **a** = 10\n",
    "- Zdefiniuj (i wykonaj) funkcję **print_global()**, wypisującą zmienną **globalną a**.\n",
    "- Zdefiniuj (i wykonaj) funkcję **shadow_a()**, która utworzy **lokalną zmienną a** o nowej wartości, a następnie ją wypisze.\n",
    "- Zadeklaruj w module zmienną **counter** = 1.\n",
    "- Napisz w module funkcję (i ją wykonaj) **increase_counter(n)**, która wykona operację: counter += n (lub counter = counter + n). Po każdym wykonaniu funkcji **zmienna globalna counter** powinna mieć wartość o 'n' większą.\n",
    "- Dodaj do wszystkich funkcji dokumentację w postaci łańcucha znaków występującego poniżej ich nagłówków. "
   ]
  },
  {
   "cell_type": "code",
   "execution_count": 10,
   "metadata": {},
   "outputs": [
    {
     "name": "stdout",
     "output_type": "stream",
     "text": [
      "10\n",
      "22\n",
      "1\n",
      "6\n",
      "17\n"
     ]
    }
   ],
   "source": [
    "#\n",
    "#\n",
    "# UZUPEŁNIĆ \n",
    "#\n",
    "#\n",
    "\n",
    "a = 10\n",
    "def print_global():\n",
    "    ''' funkcja\n",
    "        wypisuje zmienną globalną a '''\n",
    "    print(a)\n",
    "    \n",
    "print_global()\n",
    "    \n",
    "def shadow_a():\n",
    "    ''' funkcja\n",
    "        przypisuje do zmiennej a liczbę 22\n",
    "        wypisuje ją '''\n",
    "    a = 22\n",
    "    print(a)\n",
    "    \n",
    "shadow_a()\n",
    "\n",
    "counter = 1\n",
    "def increase_counter(n):\n",
    "    ''' funkcja\n",
    "        pobiera podaną liczbę z argumentu\n",
    "        wykorzystuje zmienną globalną counter\n",
    "        dodaje do zmiennej globalnej counter liczbę podaną w argumencie '''\n",
    "    global counter\n",
    "    counter += n\n",
    "\n",
    "print(counter)\n",
    "increase_counter(5)\n",
    "print(counter)\n",
    "increase_counter(11)\n",
    "print(counter)"
   ]
  }
 ],
 "metadata": {
  "kernelspec": {
   "display_name": "Python 3.9 (ipykernel)",
   "language": "python",
   "name": "python3"
  },
  "language_info": {
   "codemirror_mode": {
    "name": "ipython",
    "version": 3
   },
   "file_extension": ".py",
   "mimetype": "text/x-python",
   "name": "python",
   "nbconvert_exporter": "python",
   "pygments_lexer": "ipython3",
   "version": "3.9.1"
  }
 },
 "nbformat": 4,
 "nbformat_minor": 5
}

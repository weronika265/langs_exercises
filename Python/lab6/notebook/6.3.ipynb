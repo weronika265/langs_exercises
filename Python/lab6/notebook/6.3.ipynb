{
 "cells": [
  {
   "cell_type": "markdown",
   "metadata": {},
   "source": [
    "(0,5 pkt)\n",
    "\n",
    "Co ta funkcja wypisze i dlaczego? \n",
    "\n",
    "Napisz odpowiedź w postaci dokumentacji funkcji!"
   ]
  },
  {
   "cell_type": "code",
   "execution_count": 21,
   "metadata": {},
   "outputs": [
    {
     "name": "stdout",
     "output_type": "stream",
     "text": [
      "6\n",
      "7\n"
     ]
    }
   ],
   "source": [
    "def complicated():\n",
    "    ''' funkcja complicated()\n",
    "        przypisuje do zmiennej x liczbę 5\n",
    "        uruchamia funkcję f1() '''\n",
    "    x = 5\n",
    "    def f1():\n",
    "        ''' funkcja f1()\n",
    "            przypisuje do zmiennej x liczbę 6\n",
    "            uruchamia funkcję f2() -> 6\n",
    "            przypisuje do zmiennej x liczbę 7\n",
    "            uruchamia funkcję f3() -> nic się nie wykonuje (w funkcji zmienia się jedynie lokalna wartość zmiennej x)\n",
    "            uruchamia funkcję f2() -> 7 '''\n",
    "        \n",
    "        def f2(): \n",
    "            ''' funkcja f2()\n",
    "                wypisuje wartość zmiennej x '''\n",
    "            print(x)\n",
    "            \n",
    "        x = 6\n",
    "        f2()\n",
    "        x = 7\n",
    "        \n",
    "        def f3():\n",
    "            ''' funkcja f3()\n",
    "                przypisuje do zmiennej x liczbę 8 (lokalnie, wartość ta jest dostępna jedynie w tej funkcji) '''\n",
    "            x = 8\n",
    "            \n",
    "        f3()\n",
    "        f2()\n",
    "    f1()\n",
    "\n",
    "# uruchomienie funkcji\n",
    "complicated()"
   ]
  },
  {
   "cell_type": "code",
   "execution_count": null,
   "metadata": {},
   "outputs": [],
   "source": []
  }
 ],
 "metadata": {
  "kernelspec": {
   "display_name": "Python 3.9 (ipykernel)",
   "language": "python",
   "name": "python3"
  },
  "language_info": {
   "codemirror_mode": {
    "name": "ipython",
    "version": 3
   },
   "file_extension": ".py",
   "mimetype": "text/x-python",
   "name": "python",
   "nbconvert_exporter": "python",
   "pygments_lexer": "ipython3",
   "version": "3.9.1"
  }
 },
 "nbformat": 4,
 "nbformat_minor": 5
}

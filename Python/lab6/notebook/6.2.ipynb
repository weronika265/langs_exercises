{
 "cells": [
  {
   "cell_type": "markdown",
   "metadata": {},
   "source": [
    "(1 pkt) \n",
    "\n",
    "Utwórz w funkcję **make_dict_adder()**, która utworzy i zwróci funkcję **add(key, value)**, dodającą do słownika nową parę klucz-wartość i zwracającą słownik po modyfikacji.\n",
    "\n",
    "Funkcja **add** ma przechowywać słownik pomiędzy wywołaniami przy pomocy atrybutu funkcji (podobnie jak licznik w przykładowej funkcji make_counter() w treści lab6). \n",
    "\n",
    "Początkowy słownik powinien być pusty.\n",
    "\n",
    "Dla każdego wywołania funkcji **make_dict_adder()** powinien być tworzony nowy słownik.\n",
    " \n",
    "\n",
    "```\n",
    "{'klucz1': 'aaa'}\n",
    "{'klucz1': 'aaa', 'klucz2': 'bbb'}\n",
    "{'kluczX': 'xxx'}\n",
    "{'kluczX': 'xxx', 'kluczY': 'yyy'}\n",
    "```"
   ]
  },
  {
   "cell_type": "code",
   "execution_count": 2,
   "metadata": {},
   "outputs": [
    {
     "name": "stdout",
     "output_type": "stream",
     "text": [
      "{'klucz1': 'aaa'}\n",
      "{'klucz1': 'aaa', 'klucz2': 'bbb'}\n",
      "{'kluczX': 'xxx'}\n",
      "{'kluczX': 'xxx', 'kluczY': 'yyy'}\n"
     ]
    }
   ],
   "source": [
    "def make_dict_adder():\n",
    "    ''' funkcja\n",
    "        inicjalizuje słownik\n",
    "        uruchamia funkcję add() przy wywołaniu\n",
    "        zwraca wynik działania '''\n",
    "  #\n",
    "  #\n",
    "  # UZUPEŁNIĆ\n",
    "  #\n",
    "  #\n",
    "    def add(key, value):\n",
    "        ''' funkcja\n",
    "            dodaje element (klucz-wartość) z podanych argumentów do słownika\n",
    "            zwraca zmodyfikowany słownik '''\n",
    "        add.dict[key] = value\n",
    "        return add.dict\n",
    "    add.dict = {}\n",
    "    return add\n",
    "\n",
    "\n",
    "m = make_dict_adder()\n",
    "print( m('klucz1', 'aaa') )\n",
    "print( m('klucz2', 'bbb') )\n",
    "\n",
    "n = make_dict_adder()\n",
    "print( n('kluczX', 'xxx') )\n",
    "print( n('kluczY', 'yyy') )"
   ]
  },
  {
   "cell_type": "code",
   "execution_count": null,
   "metadata": {},
   "outputs": [],
   "source": []
  }
 ],
 "metadata": {
  "kernelspec": {
   "display_name": "Python 3.9 (ipykernel)",
   "language": "python",
   "name": "python3"
  },
  "language_info": {
   "codemirror_mode": {
    "name": "ipython",
    "version": 3
   },
   "file_extension": ".py",
   "mimetype": "text/x-python",
   "name": "python",
   "nbconvert_exporter": "python",
   "pygments_lexer": "ipython3",
   "version": "3.9.1"
  }
 },
 "nbformat": 4,
 "nbformat_minor": 5
}
